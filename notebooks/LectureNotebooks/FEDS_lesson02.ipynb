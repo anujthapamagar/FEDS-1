{
  "nbformat": 4,
  "nbformat_minor": 0,
  "metadata": {
    "colab": {
      "provenance": [],
      "toc_visible": true,
      "authorship_tag": "ABX9TyOfnRDmkP2bGIFkNmE2oUog",
      "include_colab_link": true
    },
    "kernelspec": {
      "name": "python3",
      "display_name": "Python 3"
    },
    "language_info": {
      "name": "python"
    }
  },
  "cells": [
    {
      "cell_type": "markdown",
      "metadata": {
        "id": "view-in-github",
        "colab_type": "text"
      },
      "source": [
        "<a href=\"https://colab.research.google.com/github/stenoe/FEDS/blob/main/notebooks/LectureNotebooks/FEDS_lesson02.ipynb\" target=\"_parent\"><img src=\"https://colab.research.google.com/assets/colab-badge.svg\" alt=\"Open In Colab\"/></a>"
      ]
    },
    {
      "cell_type": "markdown",
      "source": [
        "# 2 New datatypes\n",
        "\n"
      ],
      "metadata": {
        "id": "1VOJEO4wOJIi"
      }
    },
    {
      "cell_type": "markdown",
      "source": [
        "## 2.1 short review\n",
        "\n",
        "* In the first lesson and the challenge, we used numbers `int`,  `float` and strings `str` with basic operations. We stored them to variables:\n",
        "```python\n",
        "var_name_1 = number <int> \n",
        "var_name_2 = number <float>\n",
        "var_nmae_3 = text <str>\n",
        "```\n",
        "\n",
        "* We used them with operands like `+`, `-`, `*`, and `/` for addition, subtraction, multiplication and division.\n",
        "\n",
        "* We also learned that the `type()` function can be used to find out wht type we actually have. One of the most abundant errors in Python programming is the type mismatch error. \n"
      ],
      "metadata": {
        "id": "GHtepb5jBmSG"
      }
    },
    {
      "cell_type": "markdown",
      "source": [
        "## 2.2 The new types we learn about\n",
        "\n",
        "1. List\n",
        "2. Dictionary\n",
        "\n",
        "Both types are collection types. They are used to store *collections* of things in a single variable. Lists are created by using `[]` brakets. Elements in the list are delimited by commas `,` like that `[elem1, elem2, ...]`. Lists allow access to the elements `elem` via an index like `list_var[index]`. \n",
        "\n",
        "* You can learn more about lists here:\n",
        "https://www.w3schools.com/python/python_lists.asp\n",
        "\n",
        "Dictionaries are used to store `key : value` pairs. Like lists, they are collections but use the `key` to access the `value` linked to that `key`. Dictionaries use curly braces `{}` and are constructed by `{key1 : val1, key2: val2, ...}`. Dictionaries allow access via the key like `dict_var[\"key1\"]`. The keys can have meaningful names which makes them very readable.\n",
        "\n",
        "* You can learn more about dictinaries here:\n",
        "https://www.w3schools.com/python/python_dictionaries.asp\n",
        "\n"
      ],
      "metadata": {
        "id": "afbVNujgBf_w"
      }
    },
    {
      "cell_type": "markdown",
      "source": [
        "## 2.3 Building lists"
      ],
      "metadata": {
        "id": "fyqSU5m8fdxG"
      }
    },
    {
      "cell_type": "code",
      "source": [
        "# List with int numbers\n",
        "\n",
        "list1 = [10,20,30,40]\n",
        "list1"
      ],
      "metadata": {
        "colab": {
          "base_uri": "https://localhost:8080/"
        },
        "id": "R99IZH63OekQ",
        "outputId": "144c430d-28dd-4798-943a-3632964a3632"
      },
      "execution_count": 2,
      "outputs": [
        {
          "output_type": "execute_result",
          "data": {
            "text/plain": [
              "[10, 20, 30, 40]"
            ]
          },
          "metadata": {},
          "execution_count": 2
        }
      ]
    },
    {
      "cell_type": "code",
      "source": [
        "# List with mixed elements, lists can keep any kind of Python object!\n",
        "\n",
        "list2 = [1, 34.6, \"hello\"]\n",
        "list2"
      ],
      "metadata": {
        "colab": {
          "base_uri": "https://localhost:8080/"
        },
        "id": "Jyu1E0hPEBbj",
        "outputId": "43eb770b-45dd-4092-f7f1-e7f3ea076d3e"
      },
      "execution_count": 3,
      "outputs": [
        {
          "output_type": "execute_result",
          "data": {
            "text/plain": [
              "[1, 34.6, 'hello']"
            ]
          },
          "metadata": {},
          "execution_count": 3
        }
      ]
    },
    {
      "cell_type": "markdown",
      "source": [
        "**NOTE:** the hashgtag `#` can be used in code cells to add comments! Everything after the `#` symbol until the end of that line will not be executed as commands."
      ],
      "metadata": {
        "id": "nNgCyt38EQ9Y"
      }
    },
    {
      "cell_type": "markdown",
      "source": [
        "## 2.4 Access to list elements"
      ],
      "metadata": {
        "id": "nmipW2KYImM1"
      }
    },
    {
      "cell_type": "code",
      "source": [
        "# Let's access elements via the index\n",
        "\n",
        "list1[1]"
      ],
      "metadata": {
        "colab": {
          "base_uri": "https://localhost:8080/"
        },
        "id": "dMu140ZmF_YL",
        "outputId": "8df18661-05c5-4788-898b-f21ac9dd1807"
      },
      "execution_count": 4,
      "outputs": [
        {
          "output_type": "execute_result",
          "data": {
            "text/plain": [
              "20"
            ]
          },
          "metadata": {},
          "execution_count": 4
        }
      ]
    },
    {
      "cell_type": "markdown",
      "source": [
        "Moment! Didn't we expect the **first** element, i.e., 10???\n",
        "\n",
        "Yes, but Python lists start with first index is zero not one!\n",
        "\n",
        "To get the really first number, we need to use `list1[0]`."
      ],
      "metadata": {
        "id": "ef5eTGKbGU-T"
      }
    },
    {
      "cell_type": "code",
      "source": [
        "# Access the first element. Mind it starts from zero!\n",
        "\n",
        "list1[0]"
      ],
      "metadata": {
        "colab": {
          "base_uri": "https://localhost:8080/"
        },
        "id": "YnwzV121G41N",
        "outputId": "8a0a7f89-ef7e-4a22-b419-6e71b9436d92"
      },
      "execution_count": 5,
      "outputs": [
        {
          "output_type": "execute_result",
          "data": {
            "text/plain": [
              "10"
            ]
          },
          "metadata": {},
          "execution_count": 5
        }
      ]
    },
    {
      "cell_type": "code",
      "source": [
        "# We can also access the las element in the list, either by list1[3], mind, the 3 is elent number four if counted from zero!\n",
        "\n",
        "list1[3]"
      ],
      "metadata": {
        "colab": {
          "base_uri": "https://localhost:8080/"
        },
        "id": "DBFPgxCnHDpb",
        "outputId": "c64ad319-7b01-49c4-88f6-e56ea7a68060"
      },
      "execution_count": 6,
      "outputs": [
        {
          "output_type": "execute_result",
          "data": {
            "text/plain": [
              "40"
            ]
          },
          "metadata": {},
          "execution_count": 6
        }
      ]
    },
    {
      "cell_type": "code",
      "source": [
        "# or we access it \"backwards\" by telling we want the -1 element\n",
        "\n",
        "list1[-1]"
      ],
      "metadata": {
        "colab": {
          "base_uri": "https://localhost:8080/"
        },
        "id": "Dj15LWNVHU91",
        "outputId": "8409e769-4bc2-43e8-df7c-a0e8f4851fbb"
      },
      "execution_count": 7,
      "outputs": [
        {
          "output_type": "execute_result",
          "data": {
            "text/plain": [
              "40"
            ]
          },
          "metadata": {},
          "execution_count": 7
        }
      ]
    },
    {
      "cell_type": "markdown",
      "source": [
        "**NOTE:** lists are organised like:\n",
        "\n",
        "```python\n",
        "| elem 1 | elem 2 | elem 3 | ... | elem n-2 | elem n-1 |\n",
        "```\n",
        "with the index: \n",
        "\n",
        "```python\n",
        "| 0 | 1 | 2 | ... | n-2 | n-1 |\n",
        "\n",
        "or \n",
        "\n",
        "| n-n | n-(n-1) | n-(n-2) | ... | -2 | -1 |\n",
        "```\n",
        "\n",
        "when they have `n` elements.\n",
        "\n",
        "The use of -1 is handy in the case we want the last element in a list and we may not exactly know how many elements are there. "
      ],
      "metadata": {
        "id": "JMCqQSMHHiIW"
      }
    },
    {
      "cell_type": "markdown",
      "source": [
        "## 2.5 Building dictionaries"
      ],
      "metadata": {
        "id": "9mbLsIhafx9v"
      }
    },
    {
      "cell_type": "code",
      "source": [
        "# Create a dictionary with keys and values\n",
        "\n",
        "dict1 = {\n",
        "    \"name\" : \"Steffen\",\n",
        "    \"job\"  : \"crazy data scientist\",\n",
        "    \"born\" : 1966\n",
        "}\n",
        "\n",
        "print(dict1)"
      ],
      "metadata": {
        "colab": {
          "base_uri": "https://localhost:8080/"
        },
        "id": "wey-3v-BE5PI",
        "outputId": "bc0902ea-1c0f-41c7-ac12-bf155c1a7f11"
      },
      "execution_count": 8,
      "outputs": [
        {
          "output_type": "stream",
          "name": "stdout",
          "text": [
            "{'name': 'Steffen', 'job': 'crazy data scientist', 'born': 1966}\n"
          ]
        }
      ]
    },
    {
      "cell_type": "markdown",
      "source": [
        "## 2.6 Accessing dictionary elements using the key parameter"
      ],
      "metadata": {
        "id": "Vqr9keF5f-Ba"
      }
    },
    {
      "cell_type": "code",
      "source": [
        "# now, let's check how we can access elements using the keys\n",
        "\n",
        "print(dict1[\"job\"])  # "
      ],
      "metadata": {
        "colab": {
          "base_uri": "https://localhost:8080/"
        },
        "id": "pmHWMeiyFzbi",
        "outputId": "e3f0f6d4-7e3f-43fd-ed84-7048019467ec"
      },
      "execution_count": 9,
      "outputs": [
        {
          "output_type": "stream",
          "name": "stdout",
          "text": [
            "crazy data scientist\n"
          ]
        }
      ]
    },
    {
      "cell_type": "markdown",
      "source": [
        "## 2.7 Filling a list programmatically\n",
        "\n",
        "While it's straightforward to type the elements one by one into a list, it is not very useful if we have very many elements to enter. Often, we also want to generate some data to test a function or operation and we want Python is doing the \"boring\" job for us :)\n",
        "\n",
        "To do so we:\n",
        "\n",
        "1. Create a placeholder, an empty list\n",
        "2. We **loop** over a range of values we want to store in the list\n",
        "3. We append the values using the list's `append()` function\n",
        "\n"
      ],
      "metadata": {
        "id": "j6zAbPJYmlry"
      }
    },
    {
      "cell_type": "code",
      "source": [
        "data1 = [] # empty list\n",
        "\n",
        "for i in range(-50, 50, 1): # we start at -50, increase in each step by 1 until reaching 50.\n",
        "  data1.append(i) # here we append the value that is stored in the variable i (index)\n",
        "\n",
        "print(data1)"
      ],
      "metadata": {
        "colab": {
          "base_uri": "https://localhost:8080/"
        },
        "id": "e-idWdKrP6fp",
        "outputId": "205903a3-36e1-4ca4-cf17-188efd9f28a0"
      },
      "execution_count": 12,
      "outputs": [
        {
          "output_type": "stream",
          "name": "stdout",
          "text": [
            "[-50, -49, -48, -47, -46, -45, -44, -43, -42, -41, -40, -39, -38, -37, -36, -35, -34, -33, -32, -31, -30, -29, -28, -27, -26, -25, -24, -23, -22, -21, -20, -19, -18, -17, -16, -15, -14, -13, -12, -11, -10, -9, -8, -7, -6, -5, -4, -3, -2, -1, 0, 1, 2, 3, 4, 5, 6, 7, 8, 9, 10, 11, 12, 13, 14, 15, 16, 17, 18, 19, 20, 21, 22, 23, 24, 25, 26, 27, 28, 29, 30, 31, 32, 33, 34, 35, 36, 37, 38, 39, 40, 41, 42, 43, 44, 45, 46, 47, 48, 49]\n"
          ]
        }
      ]
    },
    {
      "cell_type": "markdown",
      "source": [
        "### 2.7.1 Some info on `for` loops\n",
        "\n",
        "A for loop has always the following structure:\n",
        "\n",
        "```python\n",
        "for <int> in range(start, stop, step):\n",
        "  # here what to be done\n",
        "  # command 1\n",
        "  # command 2 ...\n",
        "```\n",
        "\n",
        "The `<int>` is an integer variable and will have in every next step in the loop the next value beginning from start until it will reach stop-1. The start value is inclusive, the stop value is exclusive. \n",
        "\n",
        "The `range()` function is used to produce the index and the reserved words `for ... in ... :` construct the loop. The `:` at the end is necessary and tells Python that in the next line has to be an indent block. That structure tells Python to repeat the commands in the indend block over and over until the end criterion is reached."
      ],
      "metadata": {
        "id": "KsnyjcjgqAjA"
      }
    },
    {
      "cell_type": "markdown",
      "source": [
        "## 2.8 Calculating the square of the numbers in the list\n",
        "\n",
        "The operation we want to do is $y = x * x = x^2$. "
      ],
      "metadata": {
        "id": "221JnY2MttRp"
      }
    },
    {
      "cell_type": "code",
      "source": [
        "# The straightforward idea, just multiply the lists\n",
        "\n",
        "data1 * data1"
      ],
      "metadata": {
        "colab": {
          "base_uri": "https://localhost:8080/",
          "height": 169
        },
        "id": "IJiBXaI9tnJL",
        "outputId": "1645c4d5-5a3d-46c5-a1a2-298f8caff17d"
      },
      "execution_count": 17,
      "outputs": [
        {
          "output_type": "error",
          "ename": "TypeError",
          "evalue": "ignored",
          "traceback": [
            "\u001b[0;31m---------------------------------------------------------------------------\u001b[0m",
            "\u001b[0;31mTypeError\u001b[0m                                 Traceback (most recent call last)",
            "\u001b[0;32m<ipython-input-17-d8032017da71>\u001b[0m in \u001b[0;36m<module>\u001b[0;34m\u001b[0m\n\u001b[0;32m----> 1\u001b[0;31m \u001b[0mdata1\u001b[0m\u001b[0;34m*\u001b[0m\u001b[0mdata1\u001b[0m\u001b[0;34m\u001b[0m\u001b[0;34m\u001b[0m\u001b[0m\n\u001b[0m",
            "\u001b[0;31mTypeError\u001b[0m: can't multiply sequence by non-int of type 'list'"
          ]
        }
      ]
    },
    {
      "cell_type": "markdown",
      "source": [
        "Oh, gosh, that didn't work! We get an <font color=\"red\">`TypeError`</font>. Why is that?\n",
        "\n",
        "The error message tells that it can't multiply the sequence (the list we named `data1`) with another list which is non-int! Aha, it wants an `int` as multiplier!\n",
        "\n",
        "But we want something else! We want to make a element by element multiplication.\n",
        "\n",
        "One way out is to use a loop once more.\n",
        "\n",
        "1. Create an empty list as placeholder\n",
        "2. Loop over all indices in the list `data1`\n",
        "3. Append the square of each element `data1[i]` to the new list\n"
      ],
      "metadata": {
        "id": "FCDEkljCul--"
      }
    },
    {
      "cell_type": "code",
      "source": [
        "result_data = [] # new empty list\n",
        "\n",
        "for i in range(len(data1)): # we loop over the index of data1, it starts from 0, and ends at index 99, that are 100 elements!\n",
        "  result_data.append(data1[i] * data1[i]) # now, calculate the square data1[i] * data[i] and store to the new list\n",
        "\n",
        "print(result_data)"
      ],
      "metadata": {
        "colab": {
          "base_uri": "https://localhost:8080/"
        },
        "id": "H7e-3jLOssCc",
        "outputId": "d93b9425-8917-4731-b659-3c5501a98251"
      },
      "execution_count": 30,
      "outputs": [
        {
          "output_type": "stream",
          "name": "stdout",
          "text": [
            "[2500, 2401, 2304, 2209, 2116, 2025, 1936, 1849, 1764, 1681, 1600, 1521, 1444, 1369, 1296, 1225, 1156, 1089, 1024, 961, 900, 841, 784, 729, 676, 625, 576, 529, 484, 441, 400, 361, 324, 289, 256, 225, 196, 169, 144, 121, 100, 81, 64, 49, 36, 25, 16, 9, 4, 1, 0, 1, 4, 9, 16, 25, 36, 49, 64, 81, 100, 121, 144, 169, 196, 225, 256, 289, 324, 361, 400, 441, 484, 529, 576, 625, 676, 729, 784, 841, 900, 961, 1024, 1089, 1156, 1225, 1296, 1369, 1444, 1521, 1600, 1681, 1764, 1849, 1936, 2025, 2116, 2209, 2304, 2401]\n"
          ]
        }
      ]
    },
    {
      "cell_type": "markdown",
      "source": [
        "Perfect 😀 that did work. But, can we do that easier? "
      ],
      "metadata": {
        "id": "q2v1Ato6yU8h"
      }
    },
    {
      "cell_type": "markdown",
      "source": [
        "### 2.8.1 Numerical \"lists\" aka vectors or arrays\n",
        "\n",
        "Python has a library for mathematical operations called `numpy` (Numerical Python, https://numpy.org/). To make our task easier, we can import it and use it to calculate the elementwise squared list.\n",
        "\n",
        "Numpy has, very handy for us, a function called `np.multiply(x1, x2, ...)` that can multiply lists or arrays of the same dimension. \n",
        "\n",
        "See https://numpy.org/doc/stable/reference/generated/numpy.multiply.html\n"
      ],
      "metadata": {
        "id": "CwUYyJ0izYZY"
      }
    },
    {
      "cell_type": "code",
      "source": [
        "# Multiply long list elementwise\n",
        "\n",
        "# import the numpy library \n",
        "import numpy as np\n",
        "\n",
        "# use the multiply method (function)\n",
        "result = np.multiply(data1, data1)\n",
        "\n",
        "result\n"
      ],
      "metadata": {
        "colab": {
          "base_uri": "https://localhost:8080/"
        },
        "id": "BsU5_LW6QbVT",
        "outputId": "c9339cc7-78bf-4769-8be1-85abedc1ac8d"
      },
      "execution_count": 19,
      "outputs": [
        {
          "output_type": "execute_result",
          "data": {
            "text/plain": [
              "array([2500, 2401, 2304, 2209, 2116, 2025, 1936, 1849, 1764, 1681, 1600,\n",
              "       1521, 1444, 1369, 1296, 1225, 1156, 1089, 1024,  961,  900,  841,\n",
              "        784,  729,  676,  625,  576,  529,  484,  441,  400,  361,  324,\n",
              "        289,  256,  225,  196,  169,  144,  121,  100,   81,   64,   49,\n",
              "         36,   25,   16,    9,    4,    1,    0,    1,    4,    9,   16,\n",
              "         25,   36,   49,   64,   81,  100,  121,  144,  169,  196,  225,\n",
              "        256,  289,  324,  361,  400,  441,  484,  529,  576,  625,  676,\n",
              "        729,  784,  841,  900,  961, 1024, 1089, 1156, 1225, 1296, 1369,\n",
              "       1444, 1521, 1600, 1681, 1764, 1849, 1936, 2025, 2116, 2209, 2304,\n",
              "       2401])"
            ]
          },
          "metadata": {},
          "execution_count": 19
        }
      ]
    },
    {
      "cell_type": "code",
      "source": [
        "# We get an array([...]) back, let's check the type of the result\n",
        "# Just out of curiosity\n",
        "\n",
        "type(result)"
      ],
      "metadata": {
        "colab": {
          "base_uri": "https://localhost:8080/"
        },
        "id": "VOfV2M4dTBzQ",
        "outputId": "c239cb0e-bf66-48e3-a9f4-a6cd209741a7"
      },
      "execution_count": 21,
      "outputs": [
        {
          "output_type": "execute_result",
          "data": {
            "text/plain": [
              "numpy.ndarray"
            ]
          },
          "metadata": {},
          "execution_count": 21
        }
      ]
    },
    {
      "cell_type": "code",
      "source": [
        "# and let's also check the shape of the result!\n",
        "result.shape"
      ],
      "metadata": {
        "colab": {
          "base_uri": "https://localhost:8080/"
        },
        "id": "F9PKgnrwUEhK",
        "outputId": "41c1ee28-6c27-4254-ac06-f97e0fc82992"
      },
      "execution_count": 22,
      "outputs": [
        {
          "output_type": "execute_result",
          "data": {
            "text/plain": [
              "(100,)"
            ]
          },
          "metadata": {},
          "execution_count": 22
        }
      ]
    },
    {
      "cell_type": "markdown",
      "source": [
        "**NOTE:** numpy array objects have a shape property. The result above has the shape of a vector of length 100"
      ],
      "metadata": {
        "id": "jd4a66mw2DY0"
      }
    },
    {
      "cell_type": "markdown",
      "source": [
        "### 2.8.2 Transfer a list into a numpy array\n",
        "\n",
        "Before, we saw how to create a list programmatically wit a for-loop annd how to use a loop also to make a new list with the squared elements of the list `data1`.\n",
        "\n",
        "The whole action is still a bit cumbersome and in the case we want to make mathematical calculations on vectors or matrices the numpy library helps a lot.\n",
        "\n",
        "Once we have a list, we can transfer it into a `np.array` by a cast as we saw in the first lesson. "
      ],
      "metadata": {
        "id": "e5ejDcoS4Mcy"
      }
    },
    {
      "cell_type": "code",
      "source": [
        "# Create a vector (np.array with one dimension) by casting a list\n",
        "data2 = np.array(data1)\n",
        "data2"
      ],
      "metadata": {
        "colab": {
          "base_uri": "https://localhost:8080/"
        },
        "id": "okpwF_t-pUHF",
        "outputId": "af1e30ab-124d-4cf9-bb80-4c1be256a400"
      },
      "execution_count": 38,
      "outputs": [
        {
          "output_type": "execute_result",
          "data": {
            "text/plain": [
              "array([-50, -49, -48, -47, -46, -45, -44, -43, -42, -41, -40, -39, -38,\n",
              "       -37, -36, -35, -34, -33, -32, -31, -30, -29, -28, -27, -26, -25,\n",
              "       -24, -23, -22, -21, -20, -19, -18, -17, -16, -15, -14, -13, -12,\n",
              "       -11, -10,  -9,  -8,  -7,  -6,  -5,  -4,  -3,  -2,  -1,   0,   1,\n",
              "         2,   3,   4,   5,   6,   7,   8,   9,  10,  11,  12,  13,  14,\n",
              "        15,  16,  17,  18,  19,  20,  21,  22,  23,  24,  25,  26,  27,\n",
              "        28,  29,  30,  31,  32,  33,  34,  35,  36,  37,  38,  39,  40,\n",
              "        41,  42,  43,  44,  45,  46,  47,  48,  49])"
            ]
          },
          "metadata": {},
          "execution_count": 38
        }
      ]
    },
    {
      "cell_type": "code",
      "source": [
        "# now, I can very easy calculate the square, just as expected \n",
        "data2 * data2"
      ],
      "metadata": {
        "colab": {
          "base_uri": "https://localhost:8080/"
        },
        "id": "JvLWC1bxXtNB",
        "outputId": "517d7fcb-2bf6-41fb-9829-4d00ebc0a337"
      },
      "execution_count": 32,
      "outputs": [
        {
          "output_type": "execute_result",
          "data": {
            "text/plain": [
              "array([2500, 2401, 2304, 2209, 2116, 2025, 1936, 1849, 1764, 1681, 1600,\n",
              "       1521, 1444, 1369, 1296, 1225, 1156, 1089, 1024,  961,  900,  841,\n",
              "        784,  729,  676,  625,  576,  529,  484,  441,  400,  361,  324,\n",
              "        289,  256,  225,  196,  169,  144,  121,  100,   81,   64,   49,\n",
              "         36,   25,   16,    9,    4,    1,    0,    1,    4,    9,   16,\n",
              "         25,   36,   49,   64,   81,  100,  121,  144,  169,  196,  225,\n",
              "        256,  289,  324,  361,  400,  441,  484,  529,  576,  625,  676,\n",
              "        729,  784,  841,  900,  961, 1024, 1089, 1156, 1225, 1296, 1369,\n",
              "       1444, 1521, 1600, 1681, 1764, 1849, 1936, 2025, 2116, 2209, 2304,\n",
              "       2401])"
            ]
          },
          "metadata": {},
          "execution_count": 32
        }
      ]
    },
    {
      "cell_type": "markdown",
      "source": [
        "## 2.9 Comment\n",
        "\n",
        "What you saw before is the **daily** work of a data scientist. First, get some data, then transform them into a type and shape that is well suited for the operations that need to be done on the data. "
      ],
      "metadata": {
        "id": "jEq5CsyH56Ip"
      }
    },
    {
      "cell_type": "markdown",
      "source": [
        "## 2.10 Let's visualise the results we got\n",
        "\n",
        "In data science, one mantra is: <font color=\"green\">visualise, visualise, visualise</font> \n",
        "\n",
        "The more you visualise you data, the better you can understand them and what's going on.\n",
        "\n",
        "<br>\n",
        "\n",
        "Python has a graphics library called Matplotlib (https://matplotlib.org/). We will use that library a lot in the course. \n",
        "\n",
        "To make our first graphical visualisation of our data we need to do:\n",
        "\n",
        "1. Import the `pyplot` package from Matplotlib\n",
        "2. Plot a scatter graph of our data using `plt.scatter(x, y, ...)`\n"
      ],
      "metadata": {
        "id": "beSGRX8R6fwT"
      }
    },
    {
      "cell_type": "code",
      "source": [
        "# 1. import the package needed\n",
        "import matplotlib.pyplot as plt\n",
        "\n",
        "# 2. Draw a scatter plot\n",
        "plt.scatter(data2, result)"
      ],
      "metadata": {
        "colab": {
          "base_uri": "https://localhost:8080/",
          "height": 283
        },
        "id": "9EAwXIemUVw8",
        "outputId": "8065a056-4e2f-4de9-e86e-08fec82d42c9"
      },
      "execution_count": 33,
      "outputs": [
        {
          "output_type": "execute_result",
          "data": {
            "text/plain": [
              "<matplotlib.collections.PathCollection at 0x7fe87b8f7550>"
            ]
          },
          "metadata": {},
          "execution_count": 33
        },
        {
          "output_type": "display_data",
          "data": {
            "text/plain": [
              "<Figure size 432x288 with 1 Axes>"
            ],
            "image/png": "[encoded data removed]"
          },
          "metadata": {
            "needs_background": "light"
          }
        }
      ]
    },
    {
      "cell_type": "markdown",
      "source": [
        "### 2.10.1 Let's make another operation on our data, calculate the cube\n",
        "\n",
        "Here, we want to calculate $y = x^3$. Because we have already calculated the square $x^2$ we can use that and do $y = x * x^2 = x^3$."
      ],
      "metadata": {
        "id": "S7-3XExD8OeV"
      }
    },
    {
      "cell_type": "code",
      "source": [
        "result2 = data2 * result\n",
        "result2"
      ],
      "metadata": {
        "colab": {
          "base_uri": "https://localhost:8080/"
        },
        "id": "tviB7-TlZ-5L",
        "outputId": "e0d40c58-c9f3-4d01-d134-d7a3449eaa0b"
      },
      "execution_count": 35,
      "outputs": [
        {
          "output_type": "execute_result",
          "data": {
            "text/plain": [
              "array([-125000, -117649, -110592, -103823,  -97336,  -91125,  -85184,\n",
              "        -79507,  -74088,  -68921,  -64000,  -59319,  -54872,  -50653,\n",
              "        -46656,  -42875,  -39304,  -35937,  -32768,  -29791,  -27000,\n",
              "        -24389,  -21952,  -19683,  -17576,  -15625,  -13824,  -12167,\n",
              "        -10648,   -9261,   -8000,   -6859,   -5832,   -4913,   -4096,\n",
              "         -3375,   -2744,   -2197,   -1728,   -1331,   -1000,    -729,\n",
              "          -512,    -343,    -216,    -125,     -64,     -27,      -8,\n",
              "            -1,       0,       1,       8,      27,      64,     125,\n",
              "           216,     343,     512,     729,    1000,    1331,    1728,\n",
              "          2197,    2744,    3375,    4096,    4913,    5832,    6859,\n",
              "          8000,    9261,   10648,   12167,   13824,   15625,   17576,\n",
              "         19683,   21952,   24389,   27000,   29791,   32768,   35937,\n",
              "         39304,   42875,   46656,   50653,   54872,   59319,   64000,\n",
              "         68921,   74088,   79507,   85184,   91125,   97336,  103823,\n",
              "        110592,  117649])"
            ]
          },
          "metadata": {},
          "execution_count": 35
        }
      ]
    },
    {
      "cell_type": "markdown",
      "source": [
        "Now, it's easy to visualise also these new data we have generated"
      ],
      "metadata": {
        "id": "N33ejW7t8wb4"
      }
    },
    {
      "cell_type": "code",
      "source": [
        "plt.scatter(data2, result2);"
      ],
      "metadata": {
        "colab": {
          "base_uri": "https://localhost:8080/",
          "height": 265
        },
        "id": "ueJBqi4vbKuN",
        "outputId": "e047b272-492a-46e1-c44f-0208b860f831"
      },
      "execution_count": 39,
      "outputs": [
        {
          "output_type": "display_data",
          "data": {
            "text/plain": [
              "<Figure size 432x288 with 1 Axes>"
            ],
            "image/png": "[encoded data removed]"
          },
          "metadata": {
            "needs_background": "light"
          }
        }
      ]
    },
    {
      "cell_type": "markdown",
      "source": [
        "**NOTE:** to get rid of the strange text in the graphics `<matplotlib. bla bla>` we can simply make a `;` (semicolon) at the end of the `plt.scatter()` method.\n",
        "\n",
        "It is sufficient to make that at the last plot command!\n",
        "\n",
        "Now, we can also visualise bot dataset in one plot."
      ],
      "metadata": {
        "id": "c0I1d6_B87zR"
      }
    },
    {
      "cell_type": "code",
      "source": [
        "plt.scatter(data2, result)\n",
        "plt.scatter(data2, result2);"
      ],
      "metadata": {
        "colab": {
          "base_uri": "https://localhost:8080/",
          "height": 265
        },
        "id": "8zDaQc-TbSUC",
        "outputId": "f50149e5-dc7c-4c25-e653-4a6147c6b8ac"
      },
      "execution_count": 41,
      "outputs": [
        {
          "output_type": "display_data",
          "data": {
            "text/plain": [
              "<Figure size 432x288 with 1 Axes>"
            ],
            "image/png": "[encoded data removed]"
          },
          "metadata": {
            "needs_background": "light"
          }
        }
      ]
    },
    {
      "cell_type": "code",
      "source": [],
      "metadata": {
        "id": "RAenXLVHbdyn"
      },
      "execution_count": null,
      "outputs": []
    }
  ]
}