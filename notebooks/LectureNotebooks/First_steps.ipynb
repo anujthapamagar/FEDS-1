{
  "nbformat": 4,
  "nbformat_minor": 0,
  "metadata": {
    "colab": {
      "provenance": []
    },
    "kernelspec": {
      "name": "python3",
      "display_name": "Python 3"
    },
    "language_info": {
      "name": "python"
    }
  },
  "cells": [
    {
      "cell_type": "markdown",
      "source": [
        "# My very first notebook in the Colab system"
      ],
      "metadata": {
        "id": "BQ8WXfcrYkD6"
      }
    },
    {
      "cell_type": "markdown",
      "source": [
        "## 1. The hello world program"
      ],
      "metadata": {
        "id": "AIa2-i6GY9kx"
      }
    },
    {
      "cell_type": "code",
      "execution_count": null,
      "metadata": {
        "colab": {
          "base_uri": "https://localhost:8080/"
        },
        "id": "j2f5tPGQXFji",
        "outputId": "a9d68401-591b-444a-87c0-be75efb56a87"
      },
      "outputs": [
        {
          "output_type": "stream",
          "name": "stdout",
          "text": [
            "Hello DataScience course\n"
          ]
        }
      ],
      "source": [
        "print(\"Hello DataScience course\")"
      ]
    },
    {
      "cell_type": "markdown",
      "source": [
        "## 2. Basic data types\n",
        "\n",
        "Note: info is here https://docs.python.org/3/library/stdtypes.html#numeric-types-int-float-complex"
      ],
      "metadata": {
        "id": "6je049mBXmg8"
      }
    },
    {
      "cell_type": "code",
      "source": [
        "# Let's create some integer variables\n",
        "a = 3\n",
        "b = 7"
      ],
      "metadata": {
        "id": "jH6xGYd2brUw"
      },
      "execution_count": null,
      "outputs": []
    },
    {
      "cell_type": "code",
      "source": [
        "a, b"
      ],
      "metadata": {
        "colab": {
          "base_uri": "https://localhost:8080/"
        },
        "id": "dCauTuMycKfL",
        "outputId": "79e64b36-4fc3-4e12-d93a-8dbc6f3c2f89"
      },
      "execution_count": null,
      "outputs": [
        {
          "output_type": "execute_result",
          "data": {
            "text/plain": [
              "(3, 7)"
            ]
          },
          "metadata": {},
          "execution_count": 6
        }
      ]
    },
    {
      "cell_type": "code",
      "source": [
        "# Let's calculate simple things\n",
        "c = a + b\n",
        "c"
      ],
      "metadata": {
        "colab": {
          "base_uri": "https://localhost:8080/"
        },
        "id": "l8ip6pVdcejd",
        "outputId": "f80a45a4-4f99-4a4f-ca33-1501cedff524"
      },
      "execution_count": null,
      "outputs": [
        {
          "output_type": "execute_result",
          "data": {
            "text/plain": [
              "10"
            ]
          },
          "metadata": {},
          "execution_count": 7
        }
      ]
    },
    {
      "cell_type": "markdown",
      "source": [
        "## 3. Loading modules or libraries"
      ],
      "metadata": {
        "id": "zFR7llkNc3gc"
      }
    },
    {
      "cell_type": "code",
      "source": [
        "# loading the Zen of Python\n",
        "\n",
        "import this"
      ],
      "metadata": {
        "colab": {
          "base_uri": "https://localhost:8080/"
        },
        "id": "zfr-a0jlfG7Z",
        "outputId": "e802102c-321e-4cbe-d7b6-2b8bfd530c87"
      },
      "execution_count": null,
      "outputs": [
        {
          "output_type": "stream",
          "name": "stdout",
          "text": [
            "The Zen of Python, by Tim Peters\n",
            "\n",
            "Beautiful is better than ugly.\n",
            "Explicit is better than implicit.\n",
            "Simple is better than complex.\n",
            "Complex is better than complicated.\n",
            "Flat is better than nested.\n",
            "Sparse is better than dense.\n",
            "Readability counts.\n",
            "Special cases aren't special enough to break the rules.\n",
            "Although practicality beats purity.\n",
            "Errors should never pass silently.\n",
            "Unless explicitly silenced.\n",
            "In the face of ambiguity, refuse the temptation to guess.\n",
            "There should be one-- and preferably only one --obvious way to do it.\n",
            "Although that way may not be obvious at first unless you're Dutch.\n",
            "Now is better than never.\n",
            "Although never is often better than *right* now.\n",
            "If the implementation is hard to explain, it's a bad idea.\n",
            "If the implementation is easy to explain, it may be a good idea.\n",
            "Namespaces are one honking great idea -- let's do more of those!\n"
          ]
        }
      ]
    },
    {
      "cell_type": "code",
      "source": [
        "# Get to know something on your Python version\n",
        "\n",
        "import sys\n",
        "\n",
        "# using imported functionality by namespacing\n",
        "sys.version"
      ],
      "metadata": {
        "colab": {
          "base_uri": "https://localhost:8080/",
          "height": 35
        },
        "id": "lDi1kKyrfQ0B",
        "outputId": "3373d1a6-f75e-4c34-a0e9-30f7fc0ab25d"
      },
      "execution_count": null,
      "outputs": [
        {
          "output_type": "execute_result",
          "data": {
            "text/plain": [
              "'3.8.10 (default, Nov 14 2022, 12:59:47) \\n[GCC 9.4.0]'"
            ],
            "application/vnd.google.colaboratory.intrinsic+json": {
              "type": "string"
            }
          },
          "metadata": {},
          "execution_count": 9
        }
      ]
    },
    {
      "cell_type": "markdown",
      "source": [
        "# Challenge until next week"
      ],
      "metadata": {
        "id": "TQbnHkJQgV7r"
      }
    },
    {
      "cell_type": "markdown",
      "source": [
        "Try to create a new notebook. \n",
        "\n",
        "1. create some int variables\n",
        "2. use the `type()` command to see if the variables you created are really int(eger)\n",
        "3. Try to calcualte the product * and the divivsion / of two int variables\n",
        "4. Check what is the type ot the division"
      ],
      "metadata": {
        "id": "n3ZrLktfh0yj"
      }
    }
  ]
}