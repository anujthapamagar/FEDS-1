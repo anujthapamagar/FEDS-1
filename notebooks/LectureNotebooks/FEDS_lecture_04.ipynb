{
  "nbformat": 4,
  "nbformat_minor": 0,
  "metadata": {
    "colab": {
      "provenance": [],
      "toc_visible": true,
      "authorship_tag": "ABX9TyNWlTUZgvgy75KSok3lZGa1",
      "include_colab_link": true
    },
    "kernelspec": {
      "name": "python3",
      "display_name": "Python 3"
    },
    "language_info": {
      "name": "python"
    }
  },
  "cells": [
    {
      "cell_type": "markdown",
      "metadata": {
        "id": "view-in-github",
        "colab_type": "text"
      },
      "source": [
        "<a href=\"https://colab.research.google.com/github/stenoe/FEDS/blob/main/notebooks/LectureNotebooks/FEDS_lecture_04.ipynb\" target=\"_parent\"><img src=\"https://colab.research.google.com/assets/colab-badge.svg\" alt=\"Open In Colab\"/></a>"
      ]
    },
    {
      "cell_type": "markdown",
      "source": [
        "# Creating data, simple regression, first model\n"
      ],
      "metadata": {
        "id": "V_1nAtk70oWs"
      }
    },
    {
      "cell_type": "markdown",
      "source": [
        "## 0 Outline\n",
        "\n",
        "1. Creating random data (motivation)\n",
        "2. Using random functions, `numpy`, `scipy.stats`\n",
        "3. Building a linear model using a Python function\n",
        "4. Visualise the generated data\n",
        "5. Perform a linear regression\n",
        "6. Use the estimation for predictions\n"
      ],
      "metadata": {
        "id": "guAIBskF03Ys"
      }
    },
    {
      "cell_type": "markdown",
      "source": [
        "## 1 Creating some data\n",
        "\n",
        "**Why to create data?**\n",
        "\n",
        "Often, we want to test some workflow in data science and analysis. Often, our *real* data is very large, e..g., many years of measurements. If we want only to test if a certain algorithm works, it's easier to create some data. This is also called **mocking** because we use some data that *pretend* to be real data.\n",
        "\n",
        "Often, we use some random data for this procedure. We need, of course, mock the same type of data we will later use when we will use our workflow with real data. \n",
        "\n",
        "**Let's make an example:**\n",
        "\n",
        "We are going to create 100 random numbers in a range from [0..50]. Then, we are using a normal distribution to add some errors to our data, i.e., to let them look like a \"real\" dataset.\n",
        "\n",
        "We then use a linear regression to estimate parameters from this dataset and also use the inferred parameters to make predictions.\n",
        "\n"
      ],
      "metadata": {
        "id": "0MekPMIXxKBP"
      }
    },
    {
      "cell_type": "markdown",
      "source": [
        "### 1.1 Setting the scene\n",
        "\n",
        "1. We import all needed packages\n",
        "2. We set the number of data as a constant value\n",
        "3. We create two random number generators and **seed** them with  some value "
      ],
      "metadata": {
        "id": "mYuR_dZnCJVf"
      }
    },
    {
      "cell_type": "code",
      "source": [
        "# Import the packages we're gonna use\n",
        "\n",
        "import pandas as pd # any dataframe or manipulations\n",
        "import numpy as np # we need some random numbers\n",
        "import scipy.stats as sps # statistical functions from scipy packages\n",
        "import matplotlib.pyplot as plt # we wanna visualise, visualise, visualise\n"
      ],
      "metadata": {
        "id": "eJVIkJaWfnWP"
      },
      "execution_count": 21,
      "outputs": []
    },
    {
      "cell_type": "code",
      "source": [
        "# Setting the scene, create a constant for the size of our dataset and create random number generators\n",
        "\n",
        "NDAT = 100 # number of data to generate\n",
        "\n",
        "rng = np.random.default_rng(42) # new random number generator with a seed value of 42\n",
        "rng2 = np.random.default_rng(43) # and one more with seed 43\n"
      ],
      "metadata": {
        "id": "LEb-PQIEfuFN"
      },
      "execution_count": 22,
      "outputs": []
    },
    {
      "cell_type": "markdown",
      "source": [
        "**NOTE:** Setting the seed to a random number generator will make the number generation reproducible! \n",
        "\n",
        "That means, if you run the **whole** code once more, the generated numbers should be the same.\n",
        "\n",
        "I let the commands above in for convenience. I made copies into the cells below to ensure these are run everytime the cell is executed!"
      ],
      "metadata": {
        "id": "uAXyLA39Ef3c"
      }
    },
    {
      "cell_type": "markdown",
      "source": [
        "## 2 Creating random data\n",
        "\n",
        "In order to generate our random data, we will do:\n",
        "\n",
        "1. Use the random number generator `rng` we just created before and run its `random()` method. Setting the method's `size` argument it will return that much random numbers in the interval between [0,1). In order to cover random numbers from 0 to 50, we need to multiply by 50. https://numpy.org/doc/stable/reference/random/generated/numpy.random.Generator.random.html\n",
        "\n",
        "2. Use the second number generator `rng2` to create a random disturbance that is normally distributed $N(\\mu,\\sigma)$ and can be applied to the linear function. We set $\\mu = 0$ and $\\sigma = 10$ and sample as much normally distributed random numbers as `len(x)`. https://numpy.org/doc/stable/reference/random/generated/numpy.random.Generator.normal.html#\n",
        "\n"
      ],
      "metadata": {
        "id": "GINxFZJ_B9iy"
      }
    },
    {
      "cell_type": "code",
      "source": [
        "# 1. Create 100 random numbers in the range [0, 50)\n",
        "\n",
        "# running default_rng() before the actual random number generation\n",
        "# ensures reproducibility!\n",
        "rng = np.random.default_rng(42) \n",
        "\n",
        "x = rng.random(size=NDAT)*50\n",
        "x"
      ],
      "metadata": {
        "colab": {
          "base_uri": "https://localhost:8080/"
        },
        "id": "-0nIza0HjXW1",
        "outputId": "d59a2e74-62a3-41de-969b-acef6d6bf3c8"
      },
      "execution_count": 23,
      "outputs": [
        {
          "output_type": "execute_result",
          "data": {
            "text/plain": [
              "array([38.69780243, 21.94392199, 42.929896  , 34.86840145,  4.70886739,\n",
              "       48.78111758, 38.0569851 , 39.30321526,  6.40568163, 22.51929689,\n",
              "       18.53990121, 46.33824944, 32.193256  , 41.13808066, 22.17070994,\n",
              "       11.36193609, 27.72923935,  3.19086281, 41.3815586 , 31.58321996,\n",
              "       37.904387  , 17.72629841, 48.53490122, 44.65605607, 38.91917485,\n",
              "        9.73193539, 23.33605019,  2.19018829,  7.7144746 , 34.15244766,\n",
              "       37.2381078 , 48.37548662, 16.29126791, 18.5229853 , 23.47779056,\n",
              "        9.47356795,  6.49607527, 23.78524631, 11.34546745, 33.49069973,\n",
              "       21.85759594, 41.6339098 , 35.0132551 , 15.61833207, 41.61299007,\n",
              "       40.23821787, 19.37391895, 14.4164052 , 34.1247752 ,  6.98762418,\n",
              "        9.99541012,  0.36811349, 39.34621888, 33.24254283, 35.25826893,\n",
              "       39.03645155, 22.94578878, 28.4370598 ,  6.98984991,  5.72650368,\n",
              "       33.42014809, 23.55481031, 28.26180532, 38.24994287, 31.735916  ,\n",
              "       27.67897003, 27.96035804, 15.1975049 ,  1.54089173, 21.83586946,\n",
              "       10.72923364, 20.42643219, 42.67015366, 11.69697429,  2.91513708,\n",
              "       14.0691946 , 14.67968789, 33.09582574, 27.85160762, 39.19491046,\n",
              "       33.21567702, 20.31934307, 40.70101923,  8.348646  ,  1.13560366,\n",
              "        4.50239304, 36.11796753, 23.09386151,  8.06358895, 25.05223876,\n",
              "        7.61560514, 34.81601875, 22.30781378, 19.0510613 , 15.07560446,\n",
              "       31.51412966, 18.09063053,  4.38249597,  5.90029511, 48.09488323])"
            ]
          },
          "metadata": {},
          "execution_count": 23
        }
      ]
    },
    {
      "cell_type": "code",
      "source": [
        "# 2. Create a normal distributed random sample with mu = 0 and sigma = 10\n",
        "\n",
        "# running default_rng() before the actual random number generation\n",
        "# ensures reproducibility!\n",
        "rng2 = np.random.default_rng(43)\n",
        "\n",
        "e = rng2.normal(loc=0, scale=10, size=len(x))\n",
        "e"
      ],
      "metadata": {
        "colab": {
          "base_uri": "https://localhost:8080/"
        },
        "id": "jFqhMqR1lifp",
        "outputId": "598ec0f9-96d9-4405-9ad3-23760f44f4e8"
      },
      "execution_count": 24,
      "outputs": [
        {
          "output_type": "execute_result",
          "data": {
            "text/plain": [
              "array([  2.44229507,   6.7817832 ,  -5.85529381,  -9.08673123,\n",
              "       -19.91838211,   9.71622982,   0.16657301,   2.05731345,\n",
              "        -7.83594877,  12.26498029,   9.43200578,  -1.21823881,\n",
              "        -5.55863458,  -3.56691384,  -7.98625542,   0.26564149,\n",
              "        -6.1616772 ,   5.85542521,  -3.59468575,  -3.53957064,\n",
              "        15.37253004,  -7.25719523, -15.67915888,   3.66215192,\n",
              "       -20.77868511,   2.64378636,   9.81720142,   0.70115031,\n",
              "         0.09275074, -20.50609352,   5.55303686,   3.96292567,\n",
              "       -11.71997758,  19.13170747, -12.24016201, -16.79290362,\n",
              "       -18.1105777 ,   0.25970907,   3.3787125 ,   4.40973911,\n",
              "        -3.37359978,  -8.12675022,   8.42764582,  -8.97585387,\n",
              "       -12.09840206,  14.01315667,   1.77571508,   4.71289895,\n",
              "         6.25840705,  -5.71797109,  -5.32862586,   6.40581683,\n",
              "        -6.17151224,   3.36020691,  -0.89459553, -11.94271516,\n",
              "         9.66390769, -12.8936195 ,   2.32963445,   0.66984679,\n",
              "        12.66611217, -11.19625224,  -5.43196702,  -1.00306545,\n",
              "         1.80847063,   8.68457144,   3.1109858 ,   0.24860582,\n",
              "        10.2833779 ,  20.96063543, -13.55525042,  -0.05746587,\n",
              "         7.59639896,   0.85742656,  14.34637767,  -3.34172415,\n",
              "       -10.14003679,   8.7051073 , -27.7289966 ,  -4.75758797,\n",
              "        23.66079609,   0.26243589,   3.57764235,  -9.51606078,\n",
              "        -0.2318686 ,  -1.42198842,  18.58336434, -10.10082343,\n",
              "       -27.61763646,   4.06651124,  15.5001581 ,  -6.88665555,\n",
              "       -18.23529394, -10.72821847,   4.3356964 ,  -5.62258629,\n",
              "         0.42377094, -23.5751657 ,  -5.20363037,   7.88266253])"
            ]
          },
          "metadata": {},
          "execution_count": 24
        }
      ]
    },
    {
      "cell_type": "markdown",
      "source": [
        "## 3 Building a linear model using a Python function\n",
        "\n",
        "We can use the Pythons `def` keyword to define a function. A function has a **name** and takes some **arguments**:\n",
        "\n",
        "```pythton\n",
        "def name(arg1, arg2, ... argn):\n",
        "  # do something with arg1 to arg n\n",
        "  return value\n",
        "```\n",
        "\n",
        "Above we can see the functions definition. Assuming the function would have three arguments, we can use it like:\n",
        "\n",
        "```python\n",
        "y = name(x, a, b)\n",
        "```\n",
        "\n",
        "and the calculated value should be returned and can be stored, here in `y`. \n",
        "\n",
        "**NOTE:** The function needs to be defined **before** it is invoked!\n",
        "\n",
        "<br>\n",
        "\n",
        "We want to generate a linear function:\n",
        "\n",
        "$$ y = f(x) = m x + b + e,$$\n",
        "\n",
        "which is the general linear function with a slope $m$, the intercept $b$ and the error (or disturbance) term $e$.\n"
      ],
      "metadata": {
        "id": "-HjO8EKZhSVR"
      }
    },
    {
      "cell_type": "code",
      "source": [
        "# define the linear function\n",
        "\n",
        "def my_lin(x, m=4, b=20, e=0):\n",
        "  return m * x + b + e"
      ],
      "metadata": {
        "id": "iVSU4b92ixS-"
      },
      "execution_count": 25,
      "outputs": []
    },
    {
      "cell_type": "markdown",
      "source": [
        "You can also see how we can create **default** or **fallback** arguments! We are free to use the names we think are fitting to the parameters (arguments), like $m$ for the slope, and set a value using the equal `=` symbol.\n",
        "\n",
        "**NOTE:** We can now use this function always if we want to create a linear model or relationship. "
      ],
      "metadata": {
        "id": "rNvw8i0ri-1y"
      }
    },
    {
      "cell_type": "code",
      "source": [
        "# Define a linear function // This is the version with storing the \n",
        "# result first into a temporary variable in the function and then\n",
        "# return it to the caller of the fucntion.\n",
        "#\n",
        "# y = m * x + b + e \n",
        "\n",
        "def my_lin(x, m=4, b=20, e=0):\n",
        "  value = m * x + b + e\n",
        "  return value\n",
        "  \n"
      ],
      "metadata": {
        "id": "m6sWShl-7p0W"
      },
      "execution_count": 26,
      "outputs": []
    },
    {
      "cell_type": "markdown",
      "source": [
        "**NOTE:** This version has one more line of code to write compared to the previous one. In some cases, when you want to print some feedback or debugging messages about what goes on insisde the function this is a way to do it."
      ],
      "metadata": {
        "id": "ySmFRJ1_8Bn5"
      }
    },
    {
      "cell_type": "markdown",
      "source": [
        "### 3.1 Create the linear relation using the random `x` and `e` data\n"
      ],
      "metadata": {
        "id": "jQe8nFV00I-N"
      }
    },
    {
      "cell_type": "code",
      "source": [
        "# Create the linear relation between y and x using the function my_lin()\n",
        "\n",
        "y = my_lin(x, e=e)\n",
        "y"
      ],
      "metadata": {
        "colab": {
          "base_uri": "https://localhost:8080/"
        },
        "id": "dBswC9Gsl9I-",
        "outputId": "3bf28ea9-0d01-4efe-a1bf-f93c5641c5c0"
      },
      "execution_count": 27,
      "outputs": [
        {
          "output_type": "execute_result",
          "data": {
            "text/plain": [
              "array([177.23350478, 114.55747115, 185.86429017, 150.38687458,\n",
              "        18.91708747, 224.84070015, 172.3945134 , 179.2701745 ,\n",
              "        37.78677777, 122.34216787, 103.59161062, 204.13475895,\n",
              "       143.21438944, 180.98540881, 100.69658434,  65.71338585,\n",
              "       124.75528021,  38.61887643, 181.93154865, 142.79330919,\n",
              "       186.99007806,  83.6479984 , 198.460446  , 202.28637619,\n",
              "       154.8980143 ,  61.57152793, 123.16140216,  29.46190346,\n",
              "        50.95064916, 136.10369713, 174.50546804, 217.46487216,\n",
              "        73.44509404, 113.22364868, 101.67100025,  41.1013682 ,\n",
              "        27.87372337, 115.40069432,  68.76058231, 158.37253805,\n",
              "       104.05678399, 178.40888899, 168.48066622,  73.49747441,\n",
              "       174.35355822, 194.96602817,  99.27139089,  82.37851974,\n",
              "       162.75750784,  42.23252563,  54.65301464,  27.87827078,\n",
              "       171.21336326, 156.33037823, 160.1384802 , 164.20309105,\n",
              "       121.4470628 , 120.85461969,  50.28903407,  43.5758615 ,\n",
              "       166.34670453, 103.02298899, 127.61525428, 171.99670604,\n",
              "       148.75213463, 139.40045157, 134.95241795,  81.03862543,\n",
              "        36.44694481, 128.30411327,  49.36168415, 101.64826288,\n",
              "       198.27701361,  67.64532373,  46.00692601,  72.93505426,\n",
              "        68.57871476, 161.08841024, 103.67743387, 172.02205385,\n",
              "       176.52350416, 101.53980818, 186.38171928,  43.8785232 ,\n",
              "        24.31054602,  36.58758374, 183.05523446, 102.27462262,\n",
              "        24.63671934, 124.27546626,  65.96257864, 152.37741947,\n",
              "        90.99596118,  85.47602674,  84.63811423, 140.43393233,\n",
              "        92.78629305,  13.95481816,  38.39755006, 220.26219544])"
            ]
          },
          "metadata": {},
          "execution_count": 27
        }
      ]
    },
    {
      "cell_type": "code",
      "source": [
        "# Create a dataframe from the just calculated data via a dictionary\n",
        "\n",
        "df = pd.DataFrame({\n",
        "    \"x\": x,\n",
        "    \"y\": y,\n",
        "    \"e\": e\n",
        "})\n",
        "\n",
        "df"
      ],
      "metadata": {
        "colab": {
          "base_uri": "https://localhost:8080/",
          "height": 423
        },
        "id": "sefWCohpVmmh",
        "outputId": "a2e3b5ab-4eef-47ee-e4f7-f6be3c8aef37"
      },
      "execution_count": 28,
      "outputs": [
        {
          "output_type": "execute_result",
          "data": {
            "text/plain": [
              "            x           y          e\n",
              "0   38.697802  177.233505   2.442295\n",
              "1   21.943922  114.557471   6.781783\n",
              "2   42.929896  185.864290  -5.855294\n",
              "3   34.868401  150.386875  -9.086731\n",
              "4    4.708867   18.917087 -19.918382\n",
              "..        ...         ...        ...\n",
              "95  31.514130  140.433932  -5.622586\n",
              "96  18.090631   92.786293   0.423771\n",
              "97   4.382496   13.954818 -23.575166\n",
              "98   5.900295   38.397550  -5.203630\n",
              "99  48.094883  220.262195   7.882663\n",
              "\n",
              "[100 rows x 3 columns]"
            ],
            "text/html": [
              "\n",
              "  <div id=\"df-42a1b55d-21e5-43cd-91a2-e8e96061d2c2\">\n",
              "    <div class=\"colab-df-container\">\n",
              "      <div>\n",
              "<style scoped>\n",
              "    .dataframe tbody tr th:only-of-type {\n",
              "        vertical-align: middle;\n",
              "    }\n",
              "\n",
              "    .dataframe tbody tr th {\n",
              "        vertical-align: top;\n",
              "    }\n",
              "\n",
              "    .dataframe thead th {\n",
              "        text-align: right;\n",
              "    }\n",
              "</style>\n",
              "<table border=\"1\" class=\"dataframe\">\n",
              "  <thead>\n",
              "    <tr style=\"text-align: right;\">\n",
              "      <th></th>\n",
              "      <th>x</th>\n",
              "      <th>y</th>\n",
              "      <th>e</th>\n",
              "    </tr>\n",
              "  </thead>\n",
              "  <tbody>\n",
              "    <tr>\n",
              "      <th>0</th>\n",
              "      <td>38.697802</td>\n",
              "      <td>177.233505</td>\n",
              "      <td>2.442295</td>\n",
              "    </tr>\n",
              "    <tr>\n",
              "      <th>1</th>\n",
              "      <td>21.943922</td>\n",
              "      <td>114.557471</td>\n",
              "      <td>6.781783</td>\n",
              "    </tr>\n",
              "    <tr>\n",
              "      <th>2</th>\n",
              "      <td>42.929896</td>\n",
              "      <td>185.864290</td>\n",
              "      <td>-5.855294</td>\n",
              "    </tr>\n",
              "    <tr>\n",
              "      <th>3</th>\n",
              "      <td>34.868401</td>\n",
              "      <td>150.386875</td>\n",
              "      <td>-9.086731</td>\n",
              "    </tr>\n",
              "    <tr>\n",
              "      <th>4</th>\n",
              "      <td>4.708867</td>\n",
              "      <td>18.917087</td>\n",
              "      <td>-19.918382</td>\n",
              "    </tr>\n",
              "    <tr>\n",
              "      <th>...</th>\n",
              "      <td>...</td>\n",
              "      <td>...</td>\n",
              "      <td>...</td>\n",
              "    </tr>\n",
              "    <tr>\n",
              "      <th>95</th>\n",
              "      <td>31.514130</td>\n",
              "      <td>140.433932</td>\n",
              "      <td>-5.622586</td>\n",
              "    </tr>\n",
              "    <tr>\n",
              "      <th>96</th>\n",
              "      <td>18.090631</td>\n",
              "      <td>92.786293</td>\n",
              "      <td>0.423771</td>\n",
              "    </tr>\n",
              "    <tr>\n",
              "      <th>97</th>\n",
              "      <td>4.382496</td>\n",
              "      <td>13.954818</td>\n",
              "      <td>-23.575166</td>\n",
              "    </tr>\n",
              "    <tr>\n",
              "      <th>98</th>\n",
              "      <td>5.900295</td>\n",
              "      <td>38.397550</td>\n",
              "      <td>-5.203630</td>\n",
              "    </tr>\n",
              "    <tr>\n",
              "      <th>99</th>\n",
              "      <td>48.094883</td>\n",
              "      <td>220.262195</td>\n",
              "      <td>7.882663</td>\n",
              "    </tr>\n",
              "  </tbody>\n",
              "</table>\n",
              "<p>100 rows × 3 columns</p>\n",
              "</div>\n",
              "      <button class=\"colab-df-convert\" onclick=\"convertToInteractive('df-42a1b55d-21e5-43cd-91a2-e8e96061d2c2')\"\n",
              "              title=\"Convert this dataframe to an interactive table.\"\n",
              "              style=\"display:none;\">\n",
              "        \n",
              "  <svg xmlns=\"http://www.w3.org/2000/svg\" height=\"24px\"viewBox=\"0 0 24 24\"\n",
              "       width=\"24px\">\n",
              "    <path d=\"M0 0h24v24H0V0z\" fill=\"none\"/>\n",
              "    <path d=\"M18.56 5.44l.94 2.06.94-2.06 2.06-.94-2.06-.94-.94-2.06-.94 2.06-2.06.94zm-11 1L8.5 8.5l.94-2.06 2.06-.94-2.06-.94L8.5 2.5l-.94 2.06-2.06.94zm10 10l.94 2.06.94-2.06 2.06-.94-2.06-.94-.94-2.06-.94 2.06-2.06.94z\"/><path d=\"M17.41 7.96l-1.37-1.37c-.4-.4-.92-.59-1.43-.59-.52 0-1.04.2-1.43.59L10.3 9.45l-7.72 7.72c-.78.78-.78 2.05 0 2.83L4 21.41c.39.39.9.59 1.41.59.51 0 1.02-.2 1.41-.59l7.78-7.78 2.81-2.81c.8-.78.8-2.07 0-2.86zM5.41 20L4 18.59l7.72-7.72 1.47 1.35L5.41 20z\"/>\n",
              "  </svg>\n",
              "      </button>\n",
              "      \n",
              "  <style>\n",
              "    .colab-df-container {\n",
              "      display:flex;\n",
              "      flex-wrap:wrap;\n",
              "      gap: 12px;\n",
              "    }\n",
              "\n",
              "    .colab-df-convert {\n",
              "      background-color: #E8F0FE;\n",
              "      border: none;\n",
              "      border-radius: 50%;\n",
              "      cursor: pointer;\n",
              "      display: none;\n",
              "      fill: #1967D2;\n",
              "      height: 32px;\n",
              "      padding: 0 0 0 0;\n",
              "      width: 32px;\n",
              "    }\n",
              "\n",
              "    .colab-df-convert:hover {\n",
              "      background-color: #E2EBFA;\n",
              "      box-shadow: 0px 1px 2px rgba(60, 64, 67, 0.3), 0px 1px 3px 1px rgba(60, 64, 67, 0.15);\n",
              "      fill: #174EA6;\n",
              "    }\n",
              "\n",
              "    [theme=dark] .colab-df-convert {\n",
              "      background-color: #3B4455;\n",
              "      fill: #D2E3FC;\n",
              "    }\n",
              "\n",
              "    [theme=dark] .colab-df-convert:hover {\n",
              "      background-color: #434B5C;\n",
              "      box-shadow: 0px 1px 3px 1px rgba(0, 0, 0, 0.15);\n",
              "      filter: drop-shadow(0px 1px 2px rgba(0, 0, 0, 0.3));\n",
              "      fill: #FFFFFF;\n",
              "    }\n",
              "  </style>\n",
              "\n",
              "      <script>\n",
              "        const buttonEl =\n",
              "          document.querySelector('#df-42a1b55d-21e5-43cd-91a2-e8e96061d2c2 button.colab-df-convert');\n",
              "        buttonEl.style.display =\n",
              "          google.colab.kernel.accessAllowed ? 'block' : 'none';\n",
              "\n",
              "        async function convertToInteractive(key) {\n",
              "          const element = document.querySelector('#df-42a1b55d-21e5-43cd-91a2-e8e96061d2c2');\n",
              "          const dataTable =\n",
              "            await google.colab.kernel.invokeFunction('convertToInteractive',\n",
              "                                                     [key], {});\n",
              "          if (!dataTable) return;\n",
              "\n",
              "          const docLinkHtml = 'Like what you see? Visit the ' +\n",
              "            '<a target=\"_blank\" href=https://colab.research.google.com/notebooks/data_table.ipynb>data table notebook</a>'\n",
              "            + ' to learn more about interactive tables.';\n",
              "          element.innerHTML = '';\n",
              "          dataTable['output_type'] = 'display_data';\n",
              "          await google.colab.output.renderOutput(dataTable, element);\n",
              "          const docLink = document.createElement('div');\n",
              "          docLink.innerHTML = docLinkHtml;\n",
              "          element.appendChild(docLink);\n",
              "        }\n",
              "      </script>\n",
              "    </div>\n",
              "  </div>\n",
              "  "
            ]
          },
          "metadata": {},
          "execution_count": 28
        }
      ]
    },
    {
      "cell_type": "markdown",
      "source": [
        "## 4 Visualise the generated random data"
      ],
      "metadata": {
        "id": "f3H_iM9-022A"
      }
    },
    {
      "cell_type": "code",
      "source": [
        "# Easiest way is to just plot the scatter\n",
        "\n",
        "plt.scatter(x, y)\n",
        "plt.show()"
      ],
      "metadata": {
        "colab": {
          "base_uri": "https://localhost:8080/",
          "height": 265
        },
        "id": "_DdRjSySl2KQ",
        "outputId": "aaa72510-49fe-48fa-9d16-7855cfe7be64"
      },
      "execution_count": 29,
      "outputs": [
        {
          "output_type": "display_data",
          "data": {
            "text/plain": [
              "<Figure size 432x288 with 1 Axes>"
            ],
            "image/png": "[encoded data removed]"
          },
          "metadata": {
            "needs_background": "light"
          }
        }
      ]
    },
    {
      "cell_type": "code",
      "source": [
        "# or use the dataframe\n",
        "\n",
        "plt.scatter(df.x, df.y); # using the semicolon \";\" saves one row of code"
      ],
      "metadata": {
        "colab": {
          "base_uri": "https://localhost:8080/",
          "height": 265
        },
        "id": "d0k3xrJ9WYNV",
        "outputId": "49badfee-6138-46be-8e82-4b97b9b60f38"
      },
      "execution_count": 30,
      "outputs": [
        {
          "output_type": "display_data",
          "data": {
            "text/plain": [
              "<Figure size 432x288 with 1 Axes>"
            ],
            "image/png": "[encoded data removed]"
          },
          "metadata": {
            "needs_background": "light"
          }
        }
      ]
    },
    {
      "cell_type": "markdown",
      "source": [
        "## 5 Performing a linear regression\n",
        "\n",
        "We set up a simple linear regression model that uses the mockdata to estimate the parameters $m$ and $b$ of the linear function $y = mx + b$. \n",
        "\n",
        "To do so:\n",
        "\n",
        "1. Run the regression\n",
        "2. Print some general info on the estimated paramters\n",
        "3. Calculate the 95% confidence interval on the slope $m$ and intercept $b$ and print them out."
      ],
      "metadata": {
        "id": "WurCvqpa3Iuu"
      }
    },
    {
      "cell_type": "code",
      "source": [
        "# 1. run the regression\n",
        "lm = sps.linregress(x, y)\n",
        "\n",
        "# 2. Print estimated parameters and true ones and the r-squared value\n",
        "print(f\"Regression result: y = {lm.slope:.1f} * x + {lm.intercept:.1f}\") # print as floating point with 1 digit after the comma\n",
        "print(f\"True values:       y = 4.0 * x + 20.0\\n\")\n",
        "print(f\"r-squared:         {lm.rvalue:.6f}\")\n",
        "print(f\"p-value:           {lm.pvalue:.6f} => {lm.pvalue:.6g}\") \n",
        "# NOTE: .6f print 6 digits after the decimal, \n",
        "# .6g print also 6 digits but replaces the 6th scientific notation \"e(+/-)number\"\n",
        "\n",
        "# 3. calculate 95% confidence, use two-sided Students t-distribution\n",
        "#    p - probaility, df - degrees of freedom\n",
        "from scipy.stats import t\n",
        "tinv = lambda p, dfr: abs(t.ppf(p/2, dfr))\n",
        "ts = tinv(0.05, len(x)-2)\n",
        "\n",
        "print(f\"slope (95%):       {lm.slope:6f} +/- {ts*lm.stderr:.6f}\")\n",
        "print(f\"intercept (95%):   {lm.intercept:6f} +/- {ts*lm.intercept_stderr:.6f}\")\n",
        "\n"
      ],
      "metadata": {
        "colab": {
          "base_uri": "https://localhost:8080/"
        },
        "id": "OnmOc3UCl2Hq",
        "outputId": "5a5067de-5fb2-473f-b48f-a13bfdaf09e6"
      },
      "execution_count": 31,
      "outputs": [
        {
          "output_type": "stream",
          "name": "stdout",
          "text": [
            "Regression result: y = 4.1 * x + 16.8\n",
            "True values:       y = 4.0 * x + 20.0\n",
            "\n",
            "r-squared:         0.983190\n",
            "p-value:           0.000000 => 3.44012e-74\n",
            "slope (95%):       4.079975 +/- 0.151887\n",
            "intercept (95%):   16.792373 +/- 4.235277\n"
          ]
        }
      ]
    },
    {
      "cell_type": "markdown",
      "source": [
        "**NOTE:** I use here the `:length.decimal(f or g)` notation. You can read about f-string formatting for numbers here \n",
        "https://realpython.com/python-f-strings/#f-strings-a-new-and-improved-way-to-format-strings-in-python\n",
        "and here http://cissandbox.bentley.edu/sandbox/wp-content/uploads/2022-02-10-Documentation-on-f-strings-Updated.pdf\n",
        "\n",
        "In general, to format a number we can use:\n",
        "- `:.3f` for to have 3 decimals after the \".\" (`3.14563:.3f = 3.146`)\n",
        "- `:10.3f` will use in total 10 digits (incl. the \".\") and have 3 digits after the \".\" (`3.14563:10.3f = '-----3.146'`). The dash \"-\" is to show that there is an empty space!\n"
      ],
      "metadata": {
        "id": "Cs_7t3-r-faT"
      }
    },
    {
      "cell_type": "markdown",
      "source": [
        "## 6 Make predictions\n",
        "\n",
        "In order to make predictions, we do:\n",
        "\n",
        "1. Define the extraploated x values starting from the maximal value in `x` rounded to the next integer until some number larger than that. For a meaningful line, we need only two points!\n",
        "2. Define the estimated x range from 0 to `max(x)`.\n",
        "3. Plot the scatter data\n",
        "4. Plot the estimated line using our function `my_lin()` with the estimated parameters stored in `lm.slope` and `lm.intercept`. \n",
        "5. Plot the predicted values (no data points) using again our linear function `my_lin()` and the estimated parameters. "
      ],
      "metadata": {
        "id": "gRW74l79EW0Y"
      }
    },
    {
      "cell_type": "code",
      "source": [
        "# create new x values to plot the linear model, we include \n",
        "# an extrapolating prediction.\n",
        "\n",
        "EXTRAPOL = 70 \n",
        "ext_points = [round(max(x)), EXTRAPOL] # x values for extrapolation\n",
        "line_points = [0, max(x)] # x values to cover the range of random x data\n",
        "\n",
        "# plot the data\n",
        "plt.scatter(x, y, label=\"data\")\n",
        "\n",
        "# plot the regression result\n",
        "plt.plot(line_points, my_lin(np.array(line_points), m=lm.slope, b=lm.intercept),\n",
        "        color='red', label=\"regression\")\n",
        "\n",
        "# plot the extrapolation\n",
        "plt.plot(ext_points, my_lin(np.array(ext_points), m=lm.slope, b=lm.intercept),\n",
        "        color='green', label=\"prediction\")\n",
        "\n",
        "plt.xlim(0,EXTRAPOL) \n",
        "plt.legend(loc=\"lower right\") # set a legend for info\n",
        "plt.show()"
      ],
      "metadata": {
        "colab": {
          "base_uri": "https://localhost:8080/",
          "height": 265
        },
        "id": "0pauwE2hl2FV",
        "outputId": "154c1c03-0ec6-41ce-a7e3-bb98e3edd728"
      },
      "execution_count": 32,
      "outputs": [
        {
          "output_type": "display_data",
          "data": {
            "text/plain": [
              "<Figure size 432x288 with 1 Axes>"
            ],
            "image/png": "[encoded data removed]"
          },
          "metadata": {
            "needs_background": "light"
          }
        }
      ]
    },
    {
      "cell_type": "markdown",
      "source": [
        "## 7 Use `statsmodels` and `pandas` to make the linear regression\n",
        "\n",
        "The `statsmodels` library is another way of handling statistical models. It has similar notations than R available.\n",
        "\n",
        "We have been setting up already a dataframe with the mocking data of our system. \n",
        "\n",
        "We can use the `seaborn` package to get out-of-the-box statistical visualisations, e.g., the regression plot `regplot()`\n",
        "\n"
      ],
      "metadata": {
        "id": "qXxiQxLWZRzM"
      }
    },
    {
      "cell_type": "code",
      "source": [
        "import numpy as np # already imported but for completeness\n",
        "import statsmodels.formula.api as sm\n",
        "import seaborn as sns\n"
      ],
      "metadata": {
        "id": "Qr-9ihqnZmfe"
      },
      "execution_count": 33,
      "outputs": []
    },
    {
      "cell_type": "code",
      "source": [
        "# visualise the regression with the dataframe using seaborn\n",
        "sns.regplot(x=\"x\", y=\"y\", data=df);"
      ],
      "metadata": {
        "colab": {
          "base_uri": "https://localhost:8080/",
          "height": 279
        },
        "id": "G-TYLT88dhdV",
        "outputId": "c6e4f83d-28ac-410c-ce95-0130c4590f44"
      },
      "execution_count": 34,
      "outputs": [
        {
          "output_type": "display_data",
          "data": {
            "text/plain": [
              "<Figure size 432x288 with 1 Axes>"
            ],
            "image/png": "[encoded data removed]"
          },
          "metadata": {
            "needs_background": "light"
          }
        }
      ]
    },
    {
      "cell_type": "markdown",
      "source": [
        "### 7.1 Performing the regression with `statsmodels`\n",
        "\n",
        "The `statsmodels` package has the possibility to use a textual formula like in R given in `statsmodels.formula.api`.\n",
        "\n",
        "It has the **ordinary least squares** method to run a linear regression using pandas dataframe column names. \n",
        "\n",
        "I use also **command piping**, that is to add or glue together commands using the \".\" between them. You have used that before when e.g., accessing a column in a dataframe via `df.x`. "
      ],
      "metadata": {
        "id": "mVumfrJKibVn"
      }
    },
    {
      "cell_type": "code",
      "source": [
        "# Perform linear regression\n",
        "lm_sm = sm.ols(\"y ~ x\", data=df).fit()\n",
        "\n",
        "# Print out regresseion summary\n",
        "print(lm_sm.summary())"
      ],
      "metadata": {
        "colab": {
          "base_uri": "https://localhost:8080/"
        },
        "id": "-8XShuq2ZnBF",
        "outputId": "3914485d-7dad-46a7-f75c-ce9e045377a0"
      },
      "execution_count": 35,
      "outputs": [
        {
          "output_type": "stream",
          "name": "stdout",
          "text": [
            "                            OLS Regression Results                            \n",
            "==============================================================================\n",
            "Dep. Variable:                      y   R-squared:                       0.967\n",
            "Model:                            OLS   Adj. R-squared:                  0.966\n",
            "Method:                 Least Squares   F-statistic:                     2842.\n",
            "Date:                Mon, 06 Mar 2023   Prob (F-statistic):           3.44e-74\n",
            "Time:                        22:45:51   Log-Likelihood:                -375.24\n",
            "No. Observations:                 100   AIC:                             754.5\n",
            "Df Residuals:                      98   BIC:                             759.7\n",
            "Df Model:                           1                                         \n",
            "Covariance Type:            nonrobust                                         \n",
            "==============================================================================\n",
            "                 coef    std err          t      P>|t|      [0.025      0.975]\n",
            "------------------------------------------------------------------------------\n",
            "Intercept     16.7924      2.134      7.868      0.000      12.557      21.028\n",
            "x              4.0800      0.077     53.306      0.000       3.928       4.232\n",
            "==============================================================================\n",
            "Omnibus:                        0.575   Durbin-Watson:                   2.169\n",
            "Prob(Omnibus):                  0.750   Jarque-Bera (JB):                0.482\n",
            "Skew:                          -0.168   Prob(JB):                        0.786\n",
            "Kurtosis:                       2.952   Cond. No.                         57.2\n",
            "==============================================================================\n",
            "\n",
            "Notes:\n",
            "[1] Standard Errors assume that the covariance matrix of the errors is correctly specified.\n"
          ]
        }
      ]
    },
    {
      "cell_type": "markdown",
      "source": [
        "Comparison to the result with `scipy.stats` reveals that we have very similar results in both methods."
      ],
      "metadata": {
        "id": "zBXvVmBUD8xH"
      }
    },
    {
      "cell_type": "code",
      "source": [
        "print(f\"slope (95%):       {lm.slope:6f} +/- {lm.stderr:.6f}\")\n",
        "print(f\"intercept (95%):   {lm.intercept:6f} +/- {lm.intercept_stderr:.6f}\")"
      ],
      "metadata": {
        "colab": {
          "base_uri": "https://localhost:8080/"
        },
        "id": "YtMZd2FKfOgw",
        "outputId": "a3120658-c275-4172-baad-4962fde0c7b9"
      },
      "execution_count": 36,
      "outputs": [
        {
          "output_type": "stream",
          "name": "stdout",
          "text": [
            "slope (95%):       4.079975 +/- 0.076538\n",
            "intercept (95%):   16.792373 +/- 2.134214\n"
          ]
        }
      ]
    },
    {
      "cell_type": "markdown",
      "source": [
        "#### 7.1.1 Make the most compact version of running a linear regression\n",
        "\n",
        "Here, we use the dataframe directly and apply the `pd.DataFrame.pipe()` method. \n",
        "\n",
        "The command `df.pipe((smf.ols, \"data), \"y ~ x)` is equal to `sm.ols(\"y ~ x\", data=df)`. Then the `fit()` method and the `summary()` method are applied."
      ],
      "metadata": {
        "id": "nFREspCPEHx0"
      }
    },
    {
      "cell_type": "code",
      "source": [
        "# super compact version to run a regression and get the output\n",
        "print(\n",
        "  df.pipe((sm.ols, \"data\"), \"y ~ x\")\n",
        "  .fit()\n",
        "  .summary()\n",
        ")"
      ],
      "metadata": {
        "colab": {
          "base_uri": "https://localhost:8080/"
        },
        "id": "oU0XCcjFf73w",
        "outputId": "29f9cabe-a381-415f-9b01-299ad9f015c2"
      },
      "execution_count": 37,
      "outputs": [
        {
          "output_type": "stream",
          "name": "stdout",
          "text": [
            "                            OLS Regression Results                            \n",
            "==============================================================================\n",
            "Dep. Variable:                      y   R-squared:                       0.967\n",
            "Model:                            OLS   Adj. R-squared:                  0.966\n",
            "Method:                 Least Squares   F-statistic:                     2842.\n",
            "Date:                Mon, 06 Mar 2023   Prob (F-statistic):           3.44e-74\n",
            "Time:                        22:45:51   Log-Likelihood:                -375.24\n",
            "No. Observations:                 100   AIC:                             754.5\n",
            "Df Residuals:                      98   BIC:                             759.7\n",
            "Df Model:                           1                                         \n",
            "Covariance Type:            nonrobust                                         \n",
            "==============================================================================\n",
            "                 coef    std err          t      P>|t|      [0.025      0.975]\n",
            "------------------------------------------------------------------------------\n",
            "Intercept     16.7924      2.134      7.868      0.000      12.557      21.028\n",
            "x              4.0800      0.077     53.306      0.000       3.928       4.232\n",
            "==============================================================================\n",
            "Omnibus:                        0.575   Durbin-Watson:                   2.169\n",
            "Prob(Omnibus):                  0.750   Jarque-Bera (JB):                0.482\n",
            "Skew:                          -0.168   Prob(JB):                        0.786\n",
            "Kurtosis:                       2.952   Cond. No.                         57.2\n",
            "==============================================================================\n",
            "\n",
            "Notes:\n",
            "[1] Standard Errors assume that the covariance matrix of the errors is correctly specified.\n"
          ]
        }
      ]
    },
    {
      "cell_type": "markdown",
      "source": [
        "## 8 Some added info "
      ],
      "metadata": {
        "id": "ZrvHUpJvcsBi"
      }
    },
    {
      "cell_type": "markdown",
      "source": [
        "### 8.1 How random seed works\n",
        "\n",
        "You can comment the seed out, or choose a different one and re-run the cell to see what happens."
      ],
      "metadata": {
        "id": "XlREz2zpcxlz"
      }
    },
    {
      "cell_type": "code",
      "source": [
        "SEED= 4567\n",
        "s=np.random.seed(SEED)\n",
        "print(s)\n",
        "for i in range(3):\n",
        "   rf=np.random.uniform(-1.0,1.0,(3,4))\n",
        "   print(rf)"
      ],
      "metadata": {
        "colab": {
          "base_uri": "https://localhost:8080/"
        },
        "id": "dS4l4IOm4MVw",
        "outputId": "002cfbb7-20e6-47b8-948f-f7758ffebdf4"
      },
      "execution_count": 38,
      "outputs": [
        {
          "output_type": "stream",
          "name": "stdout",
          "text": [
            "None\n",
            "[[-0.27605655  0.96886752  0.73839317  0.39276403]\n",
            " [ 0.41498171  0.96610241 -0.48149069 -0.7232663 ]\n",
            " [-0.42772691 -0.47148216  0.65593654 -0.09396717]]\n",
            "[[ 0.3603802   0.82503768 -0.69973715 -0.87240222]\n",
            " [-0.74306749 -0.82357634  0.59870579 -0.36147236]\n",
            " [-0.51533245  0.59891921  0.2136458   0.77879359]]\n",
            "[[-0.68518534 -0.75853499 -0.58233372 -0.51183984]\n",
            " [ 0.18449675  0.76873815  0.64985307 -0.302572  ]\n",
            " [-0.4798142   0.14918558 -0.23632749  0.82577675]]\n"
          ]
        }
      ]
    },
    {
      "cell_type": "markdown",
      "source": [
        "### 8.2 How the sample size affects on $\\mu$ and $\\sigma$  \n",
        "\n",
        "You can change the `SAMPLE_SIZE` constant and see how the deviations are changeing."
      ],
      "metadata": {
        "id": "suIc4T9oc3wn"
      }
    },
    {
      "cell_type": "code",
      "source": [
        "rng2 = np.random.default_rng(43)\n",
        "mu, sigma = 0, 10 \n",
        "SAMPLE_SIZE = 100 # change to 1000, 10000000 and see what happens :)\n",
        "\n",
        "# Sample from a normal distribution\n",
        "aa = rng2.normal(mu, sigma, SAMPLE_SIZE)\n",
        "print(f\"deviation mu: {abs(mu - np.mean(aa))}, deviation sigma: {abs(sigma - np.std(aa, ddof=1))}\")\n"
      ],
      "metadata": {
        "colab": {
          "base_uri": "https://localhost:8080/"
        },
        "id": "B7kznGmRDYkF",
        "outputId": "30b30c34-ef43-46dc-958d-56f43981c409"
      },
      "execution_count": 52,
      "outputs": [
        {
          "output_type": "stream",
          "name": "stdout",
          "text": [
            "deviation mu: 1.2613701303074256, deviation sigma: 0.4235134421785869\n"
          ]
        }
      ]
    },
    {
      "cell_type": "markdown",
      "source": [
        "### 8.3 Visualise the random sampling from a normal distribution\n",
        "\n",
        "You can also run this cell for different `SAMPLE_SIZE`'s and see how the distribution and the fit to it is changing."
      ],
      "metadata": {
        "id": "JgMyNo_ZdOk4"
      }
    },
    {
      "cell_type": "code",
      "source": [
        "count, bins, ignored = plt.hist(aa, 30, density=True)\n",
        "plt.plot(bins, \n",
        "         1/(sigma * np.sqrt(2 * np.pi)) * \n",
        "         np.exp( - (bins - mu)**2 / (2 * sigma**2) ),\n",
        "         linewidth=2, color='r')\n",
        "plt.show()"
      ],
      "metadata": {
        "colab": {
          "base_uri": "https://localhost:8080/",
          "height": 265
        },
        "id": "IGmPJxhRMbMr",
        "outputId": "46b18a0f-ff8f-465b-baeb-add52ebff927"
      },
      "execution_count": 51,
      "outputs": [
        {
          "output_type": "display_data",
          "data": {
            "text/plain": [
              "<Figure size 432x288 with 1 Axes>"
            ],
            "image/png": "[encoded data removed]"
          },
          "metadata": {
            "needs_background": "light"
          }
        }
      ]
    }
  ]
}