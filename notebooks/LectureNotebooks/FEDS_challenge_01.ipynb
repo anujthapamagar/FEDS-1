{
  "nbformat": 4,
  "nbformat_minor": 0,
  "metadata": {
    "colab": {
      "provenance": [],
      "authorship_tag": "ABX9TyNAaNiuq8WNhdoIcn7y0bir",
      "include_colab_link": true
    },
    "kernelspec": {
      "name": "python3",
      "display_name": "Python 3"
    },
    "language_info": {
      "name": "python"
    }
  },
  "cells": [
    {
      "cell_type": "markdown",
      "metadata": {
        "id": "view-in-github",
        "colab_type": "text"
      },
      "source": [
        "<a href=\"https://colab.research.google.com/github/stenoe/FEDS/blob/main/notebooks/LectureNotebooks/FEDS_challenge_01.ipynb\" target=\"_parent\"><img src=\"https://colab.research.google.com/assets/colab-badge.svg\" alt=\"Open In Colab\"/></a>"
      ]
    },
    {
      "cell_type": "markdown",
      "source": [
        "# One solution for the challenge from 5.2.2023"
      ],
      "metadata": {
        "id": "Qxzf3iAnzz4L"
      }
    },
    {
      "cell_type": "markdown",
      "source": [
        "## The Challenge!\n",
        "\n",
        "Try to create a new notebook. \n",
        "\n",
        "1. create some int variables\n",
        "2. use the `type()` command to see if the variables you created are really int(eger)\n",
        "3. Try to calculate the product * and the division / of two int variables\n",
        "4. Check what is the type of the division"
      ],
      "metadata": {
        "id": "rCrP8CDv0Xha"
      }
    },
    {
      "cell_type": "code",
      "source": [
        "# 1. Create some int (integer) variables\n",
        "\n",
        "int_var_1 = 23\n",
        "int_var_2 = 3"
      ],
      "metadata": {
        "id": "UFMDeip00b1B"
      },
      "execution_count": 4,
      "outputs": []
    },
    {
      "cell_type": "code",
      "source": [
        "# 2. Use the type() function to check if we have got integers\n",
        "type(int_var_1), type(int_var_2)"
      ],
      "metadata": {
        "colab": {
          "base_uri": "https://localhost:8080/"
        },
        "id": "Fr2y_eU70-id",
        "outputId": "e4fc782c-26b9-4baf-fd90-091ae95ee640"
      },
      "execution_count": 5,
      "outputs": [
        {
          "output_type": "execute_result",
          "data": {
            "text/plain": [
              "(int, int)"
            ]
          },
          "metadata": {},
          "execution_count": 5
        }
      ]
    },
    {
      "cell_type": "markdown",
      "source": [
        "Great, we got two times integer variables 😀\n"
      ],
      "metadata": {
        "id": "b26-FxPC1TNa"
      }
    },
    {
      "cell_type": "code",
      "source": [
        "# Calculate the product and store to a variable\n",
        "product = int_var_1 * int_var_2\n",
        "\n",
        "# Calcualte the division between int_var_1 and int_var_2\n",
        "division = int_var_1 / int_var_2"
      ],
      "metadata": {
        "id": "E8u7wBnC2b0Q"
      },
      "execution_count": 6,
      "outputs": []
    },
    {
      "cell_type": "code",
      "source": [
        "# Let's check the results of the operations\n",
        "product, division"
      ],
      "metadata": {
        "colab": {
          "base_uri": "https://localhost:8080/"
        },
        "id": "rpeI5zDL3DtU",
        "outputId": "8e69b830-9232-45aa-8fce-3feef5015205"
      },
      "execution_count": 7,
      "outputs": [
        {
          "output_type": "execute_result",
          "data": {
            "text/plain": [
              "(69, 7.666666666666667)"
            ]
          },
          "metadata": {},
          "execution_count": 7
        }
      ]
    },
    {
      "cell_type": "code",
      "source": [
        "# 4. Let us check the types\n",
        "type(product), type(division)"
      ],
      "metadata": {
        "colab": {
          "base_uri": "https://localhost:8080/"
        },
        "id": "EYc-zgi83et5",
        "outputId": "c5672756-4770-4eee-efc3-9a4b003bd6f9"
      },
      "execution_count": 8,
      "outputs": [
        {
          "output_type": "execute_result",
          "data": {
            "text/plain": [
              "(int, float)"
            ]
          },
          "metadata": {},
          "execution_count": 8
        }
      ]
    },
    {
      "cell_type": "markdown",
      "source": [
        "Ok, we do get one int and one float! It seems the division led to a number that has a decimal point.\n",
        "\n",
        "What happens if I try division by 1, that should not be a decimal number!"
      ],
      "metadata": {
        "id": "HbL4CsvO3vdd"
      }
    },
    {
      "cell_type": "code",
      "source": [
        "div_by_one = int_var_2 / 1\n",
        "div_by_one, type(div_by_one)"
      ],
      "metadata": {
        "colab": {
          "base_uri": "https://localhost:8080/"
        },
        "id": "rqou0esB4Is2",
        "outputId": "ab2c99fc-7dec-457f-d04d-2fc21ab06c4c"
      },
      "execution_count": 9,
      "outputs": [
        {
          "output_type": "execute_result",
          "data": {
            "text/plain": [
              "(3.0, float)"
            ]
          },
          "metadata": {},
          "execution_count": 9
        }
      ]
    },
    {
      "cell_type": "markdown",
      "source": [
        "Well, it seems Python uses the **dynamic typing** and in the case of divisions, it can happen that the results is not an integer number anymore. The division operation therefore results in a floating point number. "
      ],
      "metadata": {
        "id": "wo5SFUGt4OFW"
      }
    },
    {
      "cell_type": "markdown",
      "source": [
        "## Create an error\n",
        "\n",
        "Very often by using Python we have so called **type** errors. Above I used only integer `int` type variables. Making calculations like adding, subtracting or multiplying will retain the type `int`. Only the division operation is always chaning the type to `float`. \n",
        "\n",
        "But what happes if I use a **wrong** type for an operand?\n",
        "\n",
        "The `+` operand can work if the types are the same like `int + int -> int`. It also can work if the arguments are numbers like in `float + int -> float`. \n",
        "\n",
        "### <font color=\"blue\">*But what happens if I use a text and a number?*</font>\n",
        "\n",
        "In the example below, I add an `int` and a `string` type, that generates an type error. It tells, that the `+` operand is not supported for this operation.\n"
      ],
      "metadata": {
        "id": "0pocK5CGqf5M"
      }
    },
    {
      "cell_type": "code",
      "source": [
        "int_var_1 + \"Hello\""
      ],
      "metadata": {
        "id": "KpDJkSdn47tu",
        "colab": {
          "base_uri": "https://localhost:8080/",
          "height": 169
        },
        "outputId": "55301cf2-bf90-4071-d0b4-e1ac4ac2e54d"
      },
      "execution_count": 10,
      "outputs": [
        {
          "output_type": "error",
          "ename": "TypeError",
          "evalue": "ignored",
          "traceback": [
            "\u001b[0;31m---------------------------------------------------------------------------\u001b[0m",
            "\u001b[0;31mTypeError\u001b[0m                                 Traceback (most recent call last)",
            "\u001b[0;32m<ipython-input-10-637745015fdd>\u001b[0m in \u001b[0;36m<module>\u001b[0;34m\u001b[0m\n\u001b[0;32m----> 1\u001b[0;31m \u001b[0mint_var_1\u001b[0m \u001b[0;34m+\u001b[0m \u001b[0;34m\"Hello\"\u001b[0m\u001b[0;34m\u001b[0m\u001b[0;34m\u001b[0m\u001b[0m\n\u001b[0m",
            "\u001b[0;31mTypeError\u001b[0m: unsupported operand type(s) for +: 'int' and 'str'"
          ]
        }
      ]
    },
    {
      "cell_type": "markdown",
      "source": [
        "### Can I circumvent this?\n",
        "\n",
        "yes, I can 'cast' the number into a string by using the function `str()`."
      ],
      "metadata": {
        "id": "9ByqAbEdubHM"
      }
    },
    {
      "cell_type": "code",
      "source": [
        "str(int_var_1)"
      ],
      "metadata": {
        "colab": {
          "base_uri": "https://localhost:8080/",
          "height": 36
        },
        "id": "W4FRy-9VMh_I",
        "outputId": "71570d7f-7b15-4999-9035-89521c2ce730"
      },
      "execution_count": 11,
      "outputs": [
        {
          "output_type": "execute_result",
          "data": {
            "text/plain": [
              "'23'"
            ],
            "application/vnd.google.colaboratory.intrinsic+json": {
              "type": "string"
            }
          },
          "metadata": {},
          "execution_count": 11
        }
      ]
    },
    {
      "cell_type": "markdown",
      "source": [
        "**NOTE:** the number that was stored in the `int` variable `int_var_1` is now expressed as text or better as `string` which is visible by the two ' ' marks.\n",
        "\n",
        "It is now written in the output as `'23'` instead of `23` shown below."
      ],
      "metadata": {
        "id": "_0z-al5NvYMm"
      }
    },
    {
      "cell_type": "code",
      "source": [
        "int_var_1"
      ],
      "metadata": {
        "colab": {
          "base_uri": "https://localhost:8080/"
        },
        "id": "np5biC1kM2Jp",
        "outputId": "bce2a9e9-cc79-48c3-dfa9-97ff8f2e3a82"
      },
      "execution_count": 12,
      "outputs": [
        {
          "output_type": "execute_result",
          "data": {
            "text/plain": [
              "23"
            ]
          },
          "metadata": {},
          "execution_count": 12
        }
      ]
    },
    {
      "cell_type": "markdown",
      "source": [
        "### Adding `string` types\n",
        "\n",
        "While we can of course add numbers. But, we can do this also for textual variables, the `string` types. \n",
        "\n",
        "In the example below, I cast the `int_var_1` into a string and add another string `\"Hello\"` to it. They get **glued** together."
      ],
      "metadata": {
        "id": "bpCU1COmwE4G"
      }
    },
    {
      "cell_type": "code",
      "source": [
        "string_var = str(int_var_1) + \"Hello\"\n",
        "string_var"
      ],
      "metadata": {
        "colab": {
          "base_uri": "https://localhost:8080/",
          "height": 36
        },
        "id": "JQu4lQmSNEXd",
        "outputId": "808b36b6-e091-4b7f-cf0d-d1687c148b3b"
      },
      "execution_count": 13,
      "outputs": [
        {
          "output_type": "execute_result",
          "data": {
            "text/plain": [
              "'23Hello'"
            ],
            "application/vnd.google.colaboratory.intrinsic+json": {
              "type": "string"
            }
          },
          "metadata": {},
          "execution_count": 13
        }
      ]
    },
    {
      "cell_type": "markdown",
      "source": [
        "**NOTE:** The text is now in `' '` marks. \n",
        "\n",
        "* In Python, you can use both, `\" \"` or `' '` to tell the interpreter that what is in there is a text.\n",
        "\n",
        "Let's test if the new variable is really of type string:\n"
      ],
      "metadata": {
        "id": "GixHirKF4W2i"
      }
    },
    {
      "cell_type": "code",
      "source": [
        "type(string_var)"
      ],
      "metadata": {
        "colab": {
          "base_uri": "https://localhost:8080/"
        },
        "id": "jp2_hVw95FR0",
        "outputId": "0e95c7f9-4767-4600-c3cf-2091fa7070e0"
      },
      "execution_count": 15,
      "outputs": [
        {
          "output_type": "execute_result",
          "data": {
            "text/plain": [
              "str"
            ]
          },
          "metadata": {},
          "execution_count": 15
        }
      ]
    },
    {
      "cell_type": "markdown",
      "source": [
        "Indeed, it is. Python denotes the type as `str` which means it's a string."
      ],
      "metadata": {
        "id": "vYFdZHvx5Nnt"
      }
    },
    {
      "cell_type": "markdown",
      "source": [
        "## Let's test one more type conversion\n",
        "\n",
        "Here, I add a `float` and an `int` type, both are numbers, and then I check the type of the variable."
      ],
      "metadata": {
        "id": "rWe5BLKo5e4d"
      }
    },
    {
      "cell_type": "code",
      "source": [
        "dd = 2.5 + 7\n",
        "type(dd)"
      ],
      "metadata": {
        "id": "aZ6X8AB2NMFh",
        "colab": {
          "base_uri": "https://localhost:8080/"
        },
        "outputId": "86e45781-8bbf-4239-d587-dff0703d1019"
      },
      "execution_count": 14,
      "outputs": [
        {
          "output_type": "execute_result",
          "data": {
            "text/plain": [
              "float"
            ]
          },
          "metadata": {},
          "execution_count": 14
        }
      ]
    },
    {
      "cell_type": "code",
      "source": [],
      "metadata": {
        "id": "KBaNOXexsX8j"
      },
      "execution_count": 14,
      "outputs": []
    }
  ]
}