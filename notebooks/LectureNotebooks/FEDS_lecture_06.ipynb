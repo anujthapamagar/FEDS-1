{
  "nbformat": 4,
  "nbformat_minor": 0,
  "metadata": {
    "colab": {
      "provenance": [],
      "authorship_tag": "ABX9TyMJv//ppg64TZEi58ejGXEw",
      "include_colab_link": true
    },
    "kernelspec": {
      "name": "python3",
      "display_name": "Python 3"
    },
    "language_info": {
      "name": "python"
    }
  },
  "cells": [
    {
      "cell_type": "markdown",
      "metadata": {
        "id": "view-in-github",
        "colab_type": "text"
      },
      "source": [
        "<a href=\"https://colab.research.google.com/github/stenoe/FEDS/blob/main/notebooks/LectureNotebooks/FEDS_lecture_06.ipynb\" target=\"_parent\"><img src=\"https://colab.research.google.com/assets/colab-badge.svg\" alt=\"Open In Colab\"/></a>"
      ]
    },
    {
      "cell_type": "markdown",
      "source": [
        "# Functions in Python\n",
        "\n",
        "Functions help us to split the code into smaller portions. We can use this to work on pieces of the code which makes it easier to keep track of what is going on.\n",
        "\n",
        "If we have to repeat a task over and over again, it's often the best to create a function for this task."
      ],
      "metadata": {
        "id": "GbGpU14RTb4W"
      }
    },
    {
      "cell_type": "markdown",
      "source": [
        "## 1 Defining functions\n",
        "\n",
        "Ue use the `def` keyword and build a block like below:\n",
        "```python \n",
        "def function_name(function_arguments):\n",
        "  code\n",
        "  code\n",
        "  ...\n",
        "  <return function_value>\n",
        "```\n",
        "< > means here optional, not all functions need to have a return value!"
      ],
      "metadata": {
        "id": "dDjaAbIWTsiz"
      }
    },
    {
      "cell_type": "code",
      "source": [
        "# Simple greeting function\n",
        "\n",
        "def say_hello_to(name):\n",
        "  print(f\"Hello {name}, nice to see you.\")"
      ],
      "metadata": {
        "id": "gX1XFwDmUnS0"
      },
      "execution_count": null,
      "outputs": []
    },
    {
      "cell_type": "code",
      "source": [
        "say_hello_to(\"Steffen\")"
      ],
      "metadata": {
        "colab": {
          "base_uri": "https://localhost:8080/"
        },
        "id": "8eMSuYnaVSYg",
        "outputId": "c24b2d86-c11b-453f-942b-b777be49a2d8"
      },
      "execution_count": null,
      "outputs": [
        {
          "output_type": "stream",
          "name": "stdout",
          "text": [
            "Hello Steffen, nice to see you.\n"
          ]
        }
      ]
    },
    {
      "cell_type": "code",
      "source": [
        "say_hello_to(13)"
      ],
      "metadata": {
        "colab": {
          "base_uri": "https://localhost:8080/"
        },
        "id": "r0OWZ58WVVml",
        "outputId": "06d34e23-236c-4a02-cb7a-e907004ef7e2"
      },
      "execution_count": null,
      "outputs": [
        {
          "output_type": "stream",
          "name": "stdout",
          "text": [
            "Hello 13, nice to see you.\n"
          ]
        }
      ]
    },
    {
      "cell_type": "code",
      "source": [
        "import numpy as np\n",
        "\n",
        "say_hello_to(np.pi)"
      ],
      "metadata": {
        "colab": {
          "base_uri": "https://localhost:8080/"
        },
        "id": "eEote2TYVcht",
        "outputId": "ae42d3d8-3e3d-4164-e397-599e86614382"
      },
      "execution_count": null,
      "outputs": [
        {
          "output_type": "stream",
          "name": "stdout",
          "text": [
            "Hello 3.141592653589793, nice to see you.\n"
          ]
        }
      ]
    },
    {
      "cell_type": "markdown",
      "source": [
        "**NOTE:** Python has a dynamic typing system. In the function defined above, no type is given and that works because not the argument name has a type but the \"thing\" we put in. \n",
        "\n",
        "- `\"Steffen\"` is a string (str) type, `13` an int type, and `np.pi` a float type. The function does not **distinct** between them. In the print statement these arguments are then displayed according to their type's standard way to display it! "
      ],
      "metadata": {
        "id": "goN11FAhP7My"
      }
    },
    {
      "cell_type": "markdown",
      "source": [
        "### 1.1 Define a function with a type hint for the argument\n"
      ],
      "metadata": {
        "id": "GgHdOMBFQhE4"
      }
    },
    {
      "cell_type": "code",
      "source": [
        "# Simple greeting function that has a type hint\n",
        "\n",
        "def say_hello_again(name: str):\n",
        "  print(f\"Hello {name}, nice to see you again.\")"
      ],
      "metadata": {
        "id": "jX2ToIqjVj69"
      },
      "execution_count": null,
      "outputs": []
    },
    {
      "cell_type": "code",
      "source": [
        "say_hello_again(\"Steffen\")"
      ],
      "metadata": {
        "colab": {
          "base_uri": "https://localhost:8080/"
        },
        "id": "BIGA0DWCRosO",
        "outputId": "a3447c60-e298-4e8e-92b4-b85aaa8e6390"
      },
      "execution_count": null,
      "outputs": [
        {
          "output_type": "stream",
          "name": "stdout",
          "text": [
            "Hello Steffen, nice to see you again.\n"
          ]
        }
      ]
    },
    {
      "cell_type": "code",
      "source": [
        "say_hello_again(13)\n",
        "say_hello_again(np.pi)"
      ],
      "metadata": {
        "colab": {
          "base_uri": "https://localhost:8080/"
        },
        "id": "azO8-G8ERsD_",
        "outputId": "6b1e1317-782a-458d-8903-d42f86ab6c55"
      },
      "execution_count": null,
      "outputs": [
        {
          "output_type": "stream",
          "name": "stdout",
          "text": [
            "Hello 13, nice to see you again.\n",
            "Hello 3.141592653589793, nice to see you again.\n"
          ]
        }
      ]
    },
    {
      "cell_type": "markdown",
      "source": [
        "**NOTE:** Ok, it seems giving a type does not really change something??"
      ],
      "metadata": {
        "id": "DvyjJPJqfnp2"
      }
    },
    {
      "cell_type": "code",
      "source": [
        "def say_hello_again2(name: str):\n",
        "  print(f\"Hello {name}, nice to see you again. The name argument has type: {type(name)}\")"
      ],
      "metadata": {
        "id": "1eu7XsneR8F4"
      },
      "execution_count": null,
      "outputs": []
    },
    {
      "cell_type": "code",
      "source": [
        "say_hello_again2(\"Steffen\")\n",
        "say_hello_again2(13)\n",
        "say_hello_again2(np.pi)"
      ],
      "metadata": {
        "colab": {
          "base_uri": "https://localhost:8080/"
        },
        "id": "Ce4_uu3if7Aq",
        "outputId": "99f500da-30eb-4905-a7be-e5c40805ffab"
      },
      "execution_count": null,
      "outputs": [
        {
          "output_type": "stream",
          "name": "stdout",
          "text": [
            "Hello Steffen, nice to see you again. The name argument has type: <class 'str'>\n",
            "Hello 13, nice to see you again. The name argument has type: <class 'int'>\n",
            "Hello 3.141592653589793, nice to see you again. The name argument has type: <class 'float'>\n"
          ]
        }
      ]
    },
    {
      "cell_type": "markdown",
      "source": [
        "**NOTE:** In Python, the mantra is: all are adult!\n",
        "\n",
        "That means, that you know what to do and the Python interpreter won't try to educate you. "
      ],
      "metadata": {
        "id": "L5k6cyIslWVT"
      }
    },
    {
      "cell_type": "markdown",
      "source": [
        "## 2 Defining functions that have more than one argument"
      ],
      "metadata": {
        "id": "Vj6hxzGehPLd"
      }
    },
    {
      "cell_type": "code",
      "source": [
        "def add(n1, n2):\n",
        "  print(f\"the sum of {n1} and {n2} is: {n1 + n2}\")"
      ],
      "metadata": {
        "id": "t4-blmp8f_KQ"
      },
      "execution_count": null,
      "outputs": []
    },
    {
      "cell_type": "code",
      "source": [
        "add(3, 5)"
      ],
      "metadata": {
        "colab": {
          "base_uri": "https://localhost:8080/"
        },
        "id": "a2IFkdnyhj1g",
        "outputId": "be6af3e0-468e-45fb-e531-c533a878f2d0"
      },
      "execution_count": null,
      "outputs": [
        {
          "output_type": "stream",
          "name": "stdout",
          "text": [
            "the sum of 3 and 5 is: 8\n"
          ]
        }
      ]
    },
    {
      "cell_type": "code",
      "source": [
        "add(\"Steffen\", \"Python\")"
      ],
      "metadata": {
        "colab": {
          "base_uri": "https://localhost:8080/"
        },
        "id": "1UJFVtVEhmjG",
        "outputId": "f9689e23-0eb6-4e4b-e78c-d274ecc9a269"
      },
      "execution_count": null,
      "outputs": [
        {
          "output_type": "stream",
          "name": "stdout",
          "text": [
            "the sum of Steffen and Python is: SteffenPython\n"
          ]
        }
      ]
    },
    {
      "cell_type": "code",
      "source": [
        "add(np.pi, 13)"
      ],
      "metadata": {
        "colab": {
          "base_uri": "https://localhost:8080/"
        },
        "id": "XQalT2HShvRo",
        "outputId": "45a1f7d1-3c93-48eb-d005-6747edc5d59d"
      },
      "execution_count": null,
      "outputs": [
        {
          "output_type": "stream",
          "name": "stdout",
          "text": [
            "the sum of 3.141592653589793 and 13 is: 16.141592653589793\n"
          ]
        }
      ]
    },
    {
      "cell_type": "markdown",
      "source": [
        "### 2.1 The number of arguments matters when calling the function\n",
        "\n",
        "If you define arguments, then the right number of arguments must be provided! These are called positional arguments! "
      ],
      "metadata": {
        "id": "xICxViKImJoD"
      }
    },
    {
      "cell_type": "code",
      "source": [
        "# use the add function in the right way\n",
        "\n",
        "add(8, 6)"
      ],
      "metadata": {
        "colab": {
          "base_uri": "https://localhost:8080/"
        },
        "id": "m1yC4xz2h1XX",
        "outputId": "ae60cd59-9b97-442e-fa24-f4784cb52c36"
      },
      "execution_count": null,
      "outputs": [
        {
          "output_type": "stream",
          "name": "stdout",
          "text": [
            "the sum of 8 and 6 is: 14\n"
          ]
        }
      ]
    },
    {
      "cell_type": "code",
      "source": [
        "# use the add function with no argument\n",
        "\n",
        "add()"
      ],
      "metadata": {
        "colab": {
          "base_uri": "https://localhost:8080/",
          "height": 204
        },
        "id": "-M6nZ6iXmloQ",
        "outputId": "e2f92b09-13ad-4c3c-81a9-cb12a7a4e640"
      },
      "execution_count": null,
      "outputs": [
        {
          "output_type": "error",
          "ename": "TypeError",
          "evalue": "ignored",
          "traceback": [
            "\u001b[0;31m---------------------------------------------------------------------------\u001b[0m",
            "\u001b[0;31mTypeError\u001b[0m                                 Traceback (most recent call last)",
            "\u001b[0;32m<ipython-input-40-6d22a582035b>\u001b[0m in \u001b[0;36m<module>\u001b[0;34m\u001b[0m\n\u001b[1;32m      1\u001b[0m \u001b[0;31m# use the add function with no argument\u001b[0m\u001b[0;34m\u001b[0m\u001b[0;34m\u001b[0m\u001b[0m\n\u001b[1;32m      2\u001b[0m \u001b[0;34m\u001b[0m\u001b[0m\n\u001b[0;32m----> 3\u001b[0;31m \u001b[0madd\u001b[0m\u001b[0;34m(\u001b[0m\u001b[0;34m)\u001b[0m\u001b[0;34m\u001b[0m\u001b[0;34m\u001b[0m\u001b[0m\n\u001b[0m",
            "\u001b[0;31mTypeError\u001b[0m: add() missing 2 required positional arguments: 'n1' and 'n2'"
          ]
        }
      ]
    },
    {
      "cell_type": "code",
      "source": [
        "# use the add function with one argument\n",
        "\n",
        "add(6)"
      ],
      "metadata": {
        "colab": {
          "base_uri": "https://localhost:8080/",
          "height": 204
        },
        "id": "5jSucCJQmqTR",
        "outputId": "2493d7a3-5296-4d62-8c91-8d318f6a1cbb"
      },
      "execution_count": null,
      "outputs": [
        {
          "output_type": "error",
          "ename": "TypeError",
          "evalue": "ignored",
          "traceback": [
            "\u001b[0;31m---------------------------------------------------------------------------\u001b[0m",
            "\u001b[0;31mTypeError\u001b[0m                                 Traceback (most recent call last)",
            "\u001b[0;32m<ipython-input-41-e8a275e7a918>\u001b[0m in \u001b[0;36m<module>\u001b[0;34m\u001b[0m\n\u001b[1;32m      1\u001b[0m \u001b[0;31m# use the add function with one argument\u001b[0m\u001b[0;34m\u001b[0m\u001b[0;34m\u001b[0m\u001b[0m\n\u001b[1;32m      2\u001b[0m \u001b[0;34m\u001b[0m\u001b[0m\n\u001b[0;32m----> 3\u001b[0;31m \u001b[0madd\u001b[0m\u001b[0;34m(\u001b[0m\u001b[0;36m6\u001b[0m\u001b[0;34m)\u001b[0m\u001b[0;34m\u001b[0m\u001b[0;34m\u001b[0m\u001b[0m\n\u001b[0m",
            "\u001b[0;31mTypeError\u001b[0m: add() missing 1 required positional argument: 'n2'"
          ]
        }
      ]
    },
    {
      "cell_type": "code",
      "source": [
        "# and with one argument too much\n",
        "\n",
        "add(5, 7, 8)"
      ],
      "metadata": {
        "colab": {
          "base_uri": "https://localhost:8080/",
          "height": 204
        },
        "id": "B7ace1Rimvmk",
        "outputId": "4858f9c4-c6ae-4f34-a271-3dc4b74911db"
      },
      "execution_count": null,
      "outputs": [
        {
          "output_type": "error",
          "ename": "TypeError",
          "evalue": "ignored",
          "traceback": [
            "\u001b[0;31m---------------------------------------------------------------------------\u001b[0m",
            "\u001b[0;31mTypeError\u001b[0m                                 Traceback (most recent call last)",
            "\u001b[0;32m<ipython-input-42-9c27fd6b32ef>\u001b[0m in \u001b[0;36m<module>\u001b[0;34m\u001b[0m\n\u001b[1;32m      1\u001b[0m \u001b[0;31m# and with one argument too much\u001b[0m\u001b[0;34m\u001b[0m\u001b[0;34m\u001b[0m\u001b[0m\n\u001b[1;32m      2\u001b[0m \u001b[0;34m\u001b[0m\u001b[0m\n\u001b[0;32m----> 3\u001b[0;31m \u001b[0madd\u001b[0m\u001b[0;34m(\u001b[0m\u001b[0;36m5\u001b[0m\u001b[0;34m,\u001b[0m \u001b[0;36m7\u001b[0m\u001b[0;34m,\u001b[0m \u001b[0;36m8\u001b[0m\u001b[0;34m)\u001b[0m\u001b[0;34m\u001b[0m\u001b[0;34m\u001b[0m\u001b[0m\n\u001b[0m",
            "\u001b[0;31mTypeError\u001b[0m: add() takes 2 positional arguments but 3 were given"
          ]
        }
      ]
    },
    {
      "cell_type": "markdown",
      "source": [
        "**NOTE:** The errors in the last examples tell us that the function `add(n1, n2)` has two **positional** arguments. If there is none given or only one or too many, the interprester will tell this."
      ],
      "metadata": {
        "id": "d3b615egm5tA"
      }
    },
    {
      "cell_type": "markdown",
      "source": [
        "### 2.2 Using **named** arguments in functions, aka **keyword** arguments\n",
        "\n",
        "In the simple `add(n1, n2)` example, we have names `n1` and `n2` for the arguments. We can also use them in function calls. We use the arguments with keywords (given by the argument names)."
      ],
      "metadata": {
        "id": "LBiYM2IenbnA"
      }
    },
    {
      "cell_type": "code",
      "source": [
        "add(n1=23, n2=44)"
      ],
      "metadata": {
        "colab": {
          "base_uri": "https://localhost:8080/"
        },
        "id": "wr8fq6Rum01w",
        "outputId": "c54cb325-adb6-4f3c-e848-cc7c6026b282"
      },
      "execution_count": null,
      "outputs": [
        {
          "output_type": "stream",
          "name": "stdout",
          "text": [
            "the sum of 23 and 44 is: 67\n"
          ]
        }
      ]
    },
    {
      "cell_type": "code",
      "source": [
        "add(n1=23, 44)"
      ],
      "metadata": {
        "colab": {
          "base_uri": "https://localhost:8080/",
          "height": 133
        },
        "id": "uNJ1C03An7LO",
        "outputId": "64efe8e1-c97f-4782-9126-818a2ea98c5f"
      },
      "execution_count": null,
      "outputs": [
        {
          "output_type": "error",
          "ename": "SyntaxError",
          "evalue": "ignored",
          "traceback": [
            "\u001b[0;36m  File \u001b[0;32m\"<ipython-input-50-90b56260b04b>\"\u001b[0;36m, line \u001b[0;32m1\u001b[0m\n\u001b[0;31m    add(n1=23, 44)\u001b[0m\n\u001b[0m                 ^\u001b[0m\n\u001b[0;31mSyntaxError\u001b[0m\u001b[0;31m:\u001b[0m positional argument follows keyword argument\n"
          ]
        }
      ]
    },
    {
      "cell_type": "code",
      "source": [
        "add(23, n2=44)"
      ],
      "metadata": {
        "colab": {
          "base_uri": "https://localhost:8080/"
        },
        "id": "fywvkKn1oB6H",
        "outputId": "4dac0491-ba99-4ef9-f2a6-8507bed74862"
      },
      "execution_count": null,
      "outputs": [
        {
          "output_type": "stream",
          "name": "stdout",
          "text": [
            "the sum of 23 and 44 is: 67\n"
          ]
        }
      ]
    },
    {
      "cell_type": "code",
      "source": [
        "add(n2=44, n1=23)"
      ],
      "metadata": {
        "colab": {
          "base_uri": "https://localhost:8080/"
        },
        "id": "cBYimLQtoVFy",
        "outputId": "a1368189-d462-4fe1-9d6d-387c3e106237"
      },
      "execution_count": null,
      "outputs": [
        {
          "output_type": "stream",
          "name": "stdout",
          "text": [
            "the sum of 23 and 44 is: 67\n"
          ]
        }
      ]
    },
    {
      "cell_type": "markdown",
      "source": [
        "**NOTE:** \n",
        "\n",
        "1. When we use the keyword arguments, we can put them in arbitrary order! \n",
        "2. If only one keyword argument is used, it has to be the last one because the rule is first positional and then keyword arguments can be combined.\n",
        "\n",
        "- From a readability perspective, using the keyword argument notation is much better, even thought you need to write more. "
      ],
      "metadata": {
        "id": "vND0fSu_ocMa"
      }
    },
    {
      "cell_type": "markdown",
      "source": [
        "### 2.3 Functions with default arguments"
      ],
      "metadata": {
        "id": "xLXkXewp0llg"
      }
    },
    {
      "cell_type": "code",
      "source": [
        "# setting default arguments\n",
        "\n",
        "def add2(n1=0, n2=0):\n",
        "  print(f\"the sum of {n1} and {n2} is: {n1 + n2}\")"
      ],
      "metadata": {
        "id": "uM1_B0HW0sBR"
      },
      "execution_count": null,
      "outputs": []
    },
    {
      "cell_type": "code",
      "source": [
        "add2()"
      ],
      "metadata": {
        "colab": {
          "base_uri": "https://localhost:8080/"
        },
        "id": "py3x2Fib0-TX",
        "outputId": "ca9dceaa-1a08-42bf-8923-f27cf3e3ed3e"
      },
      "execution_count": null,
      "outputs": [
        {
          "output_type": "stream",
          "name": "stdout",
          "text": [
            "the sum of 0 and 0 is: 0\n"
          ]
        }
      ]
    },
    {
      "cell_type": "code",
      "source": [
        "add2(34)"
      ],
      "metadata": {
        "colab": {
          "base_uri": "https://localhost:8080/"
        },
        "id": "2_bwJDbT1BZB",
        "outputId": "e5e4bf11-beed-4858-c902-e517324021b6"
      },
      "execution_count": null,
      "outputs": [
        {
          "output_type": "stream",
          "name": "stdout",
          "text": [
            "the sum of 34 and 0 is: 34\n"
          ]
        }
      ]
    },
    {
      "cell_type": "code",
      "source": [
        "add2(6, 7)"
      ],
      "metadata": {
        "colab": {
          "base_uri": "https://localhost:8080/"
        },
        "id": "KSt7z2Pi1EXY",
        "outputId": "232c8e52-d295-454c-ce84-f407414d9913"
      },
      "execution_count": null,
      "outputs": [
        {
          "output_type": "stream",
          "name": "stdout",
          "text": [
            "the sum of 6 and 7 is: 13\n"
          ]
        }
      ]
    },
    {
      "cell_type": "code",
      "source": [
        "add2(n2=4)"
      ],
      "metadata": {
        "colab": {
          "base_uri": "https://localhost:8080/"
        },
        "id": "CVZC8cUM1H94",
        "outputId": "9a031479-1f87-4a7b-cddc-f496ff80592e"
      },
      "execution_count": null,
      "outputs": [
        {
          "output_type": "stream",
          "name": "stdout",
          "text": [
            "the sum of 0 and 4 is: 4\n"
          ]
        }
      ]
    },
    {
      "cell_type": "code",
      "source": [
        "add2(n1=7)"
      ],
      "metadata": {
        "colab": {
          "base_uri": "https://localhost:8080/"
        },
        "id": "KLPzV0DV1NB3",
        "outputId": "adfb7db8-167a-4cbc-e0e2-9997df105d4d"
      },
      "execution_count": null,
      "outputs": [
        {
          "output_type": "stream",
          "name": "stdout",
          "text": [
            "the sum of 7 and 0 is: 7\n"
          ]
        }
      ]
    },
    {
      "cell_type": "code",
      "source": [
        "add2(n2=8, n1=3)"
      ],
      "metadata": {
        "colab": {
          "base_uri": "https://localhost:8080/"
        },
        "id": "BkGEo4Fr1QZM",
        "outputId": "8fb9195b-164a-412d-b346-73f0f0de55e2"
      },
      "execution_count": null,
      "outputs": [
        {
          "output_type": "stream",
          "name": "stdout",
          "text": [
            "the sum of 3 and 8 is: 11\n"
          ]
        }
      ]
    },
    {
      "cell_type": "markdown",
      "source": [
        "**NOTE:** Using defailt arguments is a very good way to ensure that the function will always reach a meaningful result."
      ],
      "metadata": {
        "id": "8-qmrRpP1VLr"
      }
    },
    {
      "cell_type": "markdown",
      "source": [
        "### 2.4 Functions that use arbitrary numbers of arguments\n",
        "\n",
        "Python knows the `*args` statement for using an unspecified number of arguments to a function and `**kwargs` for the same using keywords arguments.\n",
        "\n",
        "Example, create the sum of the given arguments"
      ],
      "metadata": {
        "id": "7LbrNExLr590"
      }
    },
    {
      "cell_type": "code",
      "source": [
        "# A variable argument function\n",
        "\n",
        "def average(*args):\n",
        "  sum = 0\n",
        "  for i in args:\n",
        "    sum = sum + i  # get the total of the arguments\n",
        "\n",
        "  avg = sum / len(args)  # calculate the average\n",
        "\n",
        "  print(f\"The average is: {avg}\") \n"
      ],
      "metadata": {
        "id": "eO3M5XJwoZ4k"
      },
      "execution_count": null,
      "outputs": []
    },
    {
      "cell_type": "code",
      "source": [
        "average(3, 6, 4, 8, 5)"
      ],
      "metadata": {
        "colab": {
          "base_uri": "https://localhost:8080/"
        },
        "id": "b_QyD5IdxJb5",
        "outputId": "04401160-767c-42b2-e171-4970c8d0c326"
      },
      "execution_count": null,
      "outputs": [
        {
          "output_type": "stream",
          "name": "stdout",
          "text": [
            "The average is: 5.2\n"
          ]
        }
      ]
    },
    {
      "cell_type": "code",
      "source": [
        "average(77)"
      ],
      "metadata": {
        "colab": {
          "base_uri": "https://localhost:8080/"
        },
        "id": "3hazXejyxZ26",
        "outputId": "159b7e1a-18f7-4cf6-ecc0-db678e5185a5"
      },
      "execution_count": null,
      "outputs": [
        {
          "output_type": "stream",
          "name": "stdout",
          "text": [
            "The average is: 77.0\n"
          ]
        }
      ]
    },
    {
      "cell_type": "code",
      "source": [
        "# A variable keyword - argument function\n",
        "\n",
        "def print_grades(**kwargs):\n",
        "  for idx in kwargs:\n",
        "    arg_name = idx\n",
        "    arg_grade = kwargs[idx]\n",
        "    print(arg_name, \"=\", arg_grade)"
      ],
      "metadata": {
        "id": "zTpUSzSpxl9C"
      },
      "execution_count": null,
      "outputs": []
    },
    {
      "cell_type": "code",
      "source": [
        "print_grades(math=5, english=4, science=3.6)"
      ],
      "metadata": {
        "colab": {
          "base_uri": "https://localhost:8080/"
        },
        "id": "-ozE3LJezI-h",
        "outputId": "fd14a281-b8bf-4cd1-8e02-b6012bef8a68"
      },
      "execution_count": null,
      "outputs": [
        {
          "output_type": "stream",
          "name": "stdout",
          "text": [
            "math = 5\n",
            "english = 4\n",
            "science = 3.6\n"
          ]
        }
      ]
    },
    {
      "cell_type": "markdown",
      "source": [
        "## 3 Functions that return values"
      ],
      "metadata": {
        "id": "C2y2-JUlzm_N"
      }
    },
    {
      "cell_type": "code",
      "source": [
        "# return the sum of two elements\n",
        "\n",
        "def sum_of(n1, n2):\n",
        "  return n1 + n2"
      ],
      "metadata": {
        "id": "07Ug3dC0zc5n"
      },
      "execution_count": null,
      "outputs": []
    },
    {
      "cell_type": "code",
      "source": [
        "print(f\"The sum of 4 and 5 is: {sum_of(n1=4, n2=5)}\")"
      ],
      "metadata": {
        "colab": {
          "base_uri": "https://localhost:8080/"
        },
        "id": "gam3eUYZ0A2q",
        "outputId": "bb96d508-fcf3-42de-f9dd-c4cfbf624c95"
      },
      "execution_count": null,
      "outputs": [
        {
          "output_type": "stream",
          "name": "stdout",
          "text": [
            "The sum of 4 and 5 is: 9\n"
          ]
        }
      ]
    },
    {
      "cell_type": "markdown",
      "source": [
        "### 3.1 Ensure that a division function has always a defined state\n",
        "\n",
        "Iin this example, we check of there is no division by zero. If, so, we return a string \"undefiend\". We also ensure that the furst argument is zero, if nothing is provided."
      ],
      "metadata": {
        "id": "D9L6wDk15D7B"
      }
    },
    {
      "cell_type": "code",
      "source": [
        "# Divide two numbers safely\n",
        "\n",
        "def division_of(n1=0, n2=1):\n",
        "  if n2 == 0:\n",
        "    return \"undefined\"\n",
        "  else:\n",
        "    return n1 / n2\n"
      ],
      "metadata": {
        "id": "Jw9g2QEF0LId"
      },
      "execution_count": null,
      "outputs": []
    },
    {
      "cell_type": "code",
      "source": [
        "division_of(2, 3)"
      ],
      "metadata": {
        "colab": {
          "base_uri": "https://localhost:8080/"
        },
        "id": "uGUbTS1n2u-O",
        "outputId": "b0acc111-76c4-4e43-b824-971c7fa19cbd"
      },
      "execution_count": null,
      "outputs": [
        {
          "output_type": "execute_result",
          "data": {
            "text/plain": [
              "0.6666666666666666"
            ]
          },
          "metadata": {},
          "execution_count": 79
        }
      ]
    },
    {
      "cell_type": "code",
      "source": [
        "division_of(5, 0.0)"
      ],
      "metadata": {
        "colab": {
          "base_uri": "https://localhost:8080/",
          "height": 36
        },
        "id": "PMcop56D20bG",
        "outputId": "13435672-4261-461b-afda-ad339100832a"
      },
      "execution_count": null,
      "outputs": [
        {
          "output_type": "execute_result",
          "data": {
            "text/plain": [
              "'undefined'"
            ],
            "application/vnd.google.colaboratory.intrinsic+json": {
              "type": "string"
            }
          },
          "metadata": {},
          "execution_count": 80
        }
      ]
    },
    {
      "cell_type": "code",
      "source": [
        "division_of(0,0)"
      ],
      "metadata": {
        "colab": {
          "base_uri": "https://localhost:8080/",
          "height": 36
        },
        "id": "oUjLU3aV23Z_",
        "outputId": "f64741be-8329-491d-b5fa-7a792498eced"
      },
      "execution_count": null,
      "outputs": [
        {
          "output_type": "execute_result",
          "data": {
            "text/plain": [
              "'undefined'"
            ],
            "application/vnd.google.colaboratory.intrinsic+json": {
              "type": "string"
            }
          },
          "metadata": {},
          "execution_count": 84
        }
      ]
    },
    {
      "cell_type": "markdown",
      "source": [],
      "metadata": {
        "id": "Ht9LnwO55AEr"
      }
    },
    {
      "cell_type": "markdown",
      "source": [
        "## 4 Annotate functions and use so called docstrings\n",
        "\n",
        "You can read on docstrings here: https://peps.python.org/pep-0257/ and here https://www.programiz.com/python-programming/docstrings\n"
      ],
      "metadata": {
        "id": "fsK99KXw5kDK"
      }
    },
    {
      "cell_type": "code",
      "source": [
        "# Divide two numbers safely\n",
        "\n",
        "def division_of2(n1=0, n2=1):\n",
        "  \"\"\"Divide n1 by n2. The function takes care that n2 != zero.\n",
        "  \n",
        "  Keyword arguments:\n",
        "  n1 -- divident (default 0)\n",
        "  n2 -- divisor (default 1)\n",
        "  \"\"\"\n",
        "  if n2 == 0:\n",
        "    return \"undefined\"\n",
        "  else:\n",
        "    return n1 / n2\n",
        "\n",
        "# print the function's documentation string (help)\n",
        "help(division_of2)"
      ],
      "metadata": {
        "colab": {
          "base_uri": "https://localhost:8080/"
        },
        "id": "BcsqUZi-4D_J",
        "outputId": "74650003-bdbb-4e42-ecb5-b955cd1c23fa"
      },
      "execution_count": null,
      "outputs": [
        {
          "output_type": "stream",
          "name": "stdout",
          "text": [
            "Help on function division_of2 in module __main__:\n",
            "\n",
            "division_of2(n1=0, n2=1)\n",
            "    Divide n1 by n2. The function takes care that n2 != zero.\n",
            "    \n",
            "    Keyword arguments:\n",
            "    n1 -- divident (default 0)\n",
            "    n2 -- divisor (default 1)\n",
            "\n"
          ]
        }
      ]
    },
    {
      "cell_type": "markdown",
      "source": [
        "## 5 Lambda functions\n",
        "\n",
        "Lambda functions are anonymous functions, they are useful if you want to execute one line expressions. \n",
        "\n",
        "Filtering from lists, of applying and expressions repeatedly are use cases. \n",
        "\n",
        "If we would implement our simple add or division functions as lambda funnctions we could also save a lot of lines of typing."
      ],
      "metadata": {
        "id": "PRSiOc3B7uej"
      }
    },
    {
      "cell_type": "code",
      "source": [
        "adder = lambda n1, n2: n1 + n2\n",
        "divider = lambda n1=0, n2=1:  n1 / n2 if n2 != 0 else \"undefined\""
      ],
      "metadata": {
        "id": "gyd89Bfb48uC"
      },
      "execution_count": null,
      "outputs": []
    },
    {
      "cell_type": "code",
      "source": [
        "adder(3, 6)"
      ],
      "metadata": {
        "colab": {
          "base_uri": "https://localhost:8080/"
        },
        "id": "9qwRRIWe9I0N",
        "outputId": "0d96ac65-f23f-4f12-cbf4-8119f4db03dc"
      },
      "execution_count": null,
      "outputs": [
        {
          "output_type": "execute_result",
          "data": {
            "text/plain": [
              "9"
            ]
          },
          "metadata": {},
          "execution_count": 99
        }
      ]
    },
    {
      "cell_type": "code",
      "source": [
        "divider(), divider(1,7), divider(1,0)"
      ],
      "metadata": {
        "colab": {
          "base_uri": "https://localhost:8080/"
        },
        "id": "qi0HdJPg_Ref",
        "outputId": "6d91aa08-7bd8-4ca5-a3e1-956aef18fd5e"
      },
      "execution_count": null,
      "outputs": [
        {
          "output_type": "execute_result",
          "data": {
            "text/plain": [
              "(0.0, 0.14285714285714285, 'undefined')"
            ]
          },
          "metadata": {},
          "execution_count": 105
        }
      ]
    },
    {
      "cell_type": "code",
      "source": [
        "# Filter a list for even numbers\n",
        "\n",
        "mylist = [2,3,4,5,6,7,8,9,10]\n",
        "list_new  = list(filter(lambda x : (x%2==0), mylist))\n",
        "print(list_new)"
      ],
      "metadata": {
        "colab": {
          "base_uri": "https://localhost:8080/"
        },
        "id": "bCpUp6W0_TU7",
        "outputId": "c334cb17-cee7-4f34-b94b-6428c5a23526"
      },
      "execution_count": null,
      "outputs": [
        {
          "output_type": "stream",
          "name": "stdout",
          "text": [
            "[2, 4, 6, 8, 10]\n"
          ]
        }
      ]
    },
    {
      "cell_type": "code",
      "source": [
        "# Get sum of row in a dataframe\n",
        "\n",
        "import pandas as pd\n",
        "\n",
        "df = pd.DataFrame([[1,2,3],[4,5,6]],columns = ['First','Second','Third'])\n",
        "\n",
        "df['Sum']= df.apply(lambda row: row['First']*row['Second']* row['Third'], axis=1)\n",
        "df"
      ],
      "metadata": {
        "colab": {
          "base_uri": "https://localhost:8080/",
          "height": 112
        },
        "id": "6vKM9vJL_8zU",
        "outputId": "e101a3eb-e71e-4297-f467-09117c9428da"
      },
      "execution_count": null,
      "outputs": [
        {
          "output_type": "execute_result",
          "data": {
            "text/plain": [
              "   First  Second  Third  Sum\n",
              "0      1       2      3    6\n",
              "1      4       5      6  120"
            ],
            "text/html": [
              "\n",
              "  <div id=\"df-6331cfb9-6eab-4abc-b526-6d50a726ebb2\">\n",
              "    <div class=\"colab-df-container\">\n",
              "      <div>\n",
              "<style scoped>\n",
              "    .dataframe tbody tr th:only-of-type {\n",
              "        vertical-align: middle;\n",
              "    }\n",
              "\n",
              "    .dataframe tbody tr th {\n",
              "        vertical-align: top;\n",
              "    }\n",
              "\n",
              "    .dataframe thead th {\n",
              "        text-align: right;\n",
              "    }\n",
              "</style>\n",
              "<table border=\"1\" class=\"dataframe\">\n",
              "  <thead>\n",
              "    <tr style=\"text-align: right;\">\n",
              "      <th></th>\n",
              "      <th>First</th>\n",
              "      <th>Second</th>\n",
              "      <th>Third</th>\n",
              "      <th>Sum</th>\n",
              "    </tr>\n",
              "  </thead>\n",
              "  <tbody>\n",
              "    <tr>\n",
              "      <th>0</th>\n",
              "      <td>1</td>\n",
              "      <td>2</td>\n",
              "      <td>3</td>\n",
              "      <td>6</td>\n",
              "    </tr>\n",
              "    <tr>\n",
              "      <th>1</th>\n",
              "      <td>4</td>\n",
              "      <td>5</td>\n",
              "      <td>6</td>\n",
              "      <td>120</td>\n",
              "    </tr>\n",
              "  </tbody>\n",
              "</table>\n",
              "</div>\n",
              "      <button class=\"colab-df-convert\" onclick=\"convertToInteractive('df-6331cfb9-6eab-4abc-b526-6d50a726ebb2')\"\n",
              "              title=\"Convert this dataframe to an interactive table.\"\n",
              "              style=\"display:none;\">\n",
              "        \n",
              "  <svg xmlns=\"http://www.w3.org/2000/svg\" height=\"24px\"viewBox=\"0 0 24 24\"\n",
              "       width=\"24px\">\n",
              "    <path d=\"M0 0h24v24H0V0z\" fill=\"none\"/>\n",
              "    <path d=\"M18.56 5.44l.94 2.06.94-2.06 2.06-.94-2.06-.94-.94-2.06-.94 2.06-2.06.94zm-11 1L8.5 8.5l.94-2.06 2.06-.94-2.06-.94L8.5 2.5l-.94 2.06-2.06.94zm10 10l.94 2.06.94-2.06 2.06-.94-2.06-.94-.94-2.06-.94 2.06-2.06.94z\"/><path d=\"M17.41 7.96l-1.37-1.37c-.4-.4-.92-.59-1.43-.59-.52 0-1.04.2-1.43.59L10.3 9.45l-7.72 7.72c-.78.78-.78 2.05 0 2.83L4 21.41c.39.39.9.59 1.41.59.51 0 1.02-.2 1.41-.59l7.78-7.78 2.81-2.81c.8-.78.8-2.07 0-2.86zM5.41 20L4 18.59l7.72-7.72 1.47 1.35L5.41 20z\"/>\n",
              "  </svg>\n",
              "      </button>\n",
              "      \n",
              "  <style>\n",
              "    .colab-df-container {\n",
              "      display:flex;\n",
              "      flex-wrap:wrap;\n",
              "      gap: 12px;\n",
              "    }\n",
              "\n",
              "    .colab-df-convert {\n",
              "      background-color: #E8F0FE;\n",
              "      border: none;\n",
              "      border-radius: 50%;\n",
              "      cursor: pointer;\n",
              "      display: none;\n",
              "      fill: #1967D2;\n",
              "      height: 32px;\n",
              "      padding: 0 0 0 0;\n",
              "      width: 32px;\n",
              "    }\n",
              "\n",
              "    .colab-df-convert:hover {\n",
              "      background-color: #E2EBFA;\n",
              "      box-shadow: 0px 1px 2px rgba(60, 64, 67, 0.3), 0px 1px 3px 1px rgba(60, 64, 67, 0.15);\n",
              "      fill: #174EA6;\n",
              "    }\n",
              "\n",
              "    [theme=dark] .colab-df-convert {\n",
              "      background-color: #3B4455;\n",
              "      fill: #D2E3FC;\n",
              "    }\n",
              "\n",
              "    [theme=dark] .colab-df-convert:hover {\n",
              "      background-color: #434B5C;\n",
              "      box-shadow: 0px 1px 3px 1px rgba(0, 0, 0, 0.15);\n",
              "      filter: drop-shadow(0px 1px 2px rgba(0, 0, 0, 0.3));\n",
              "      fill: #FFFFFF;\n",
              "    }\n",
              "  </style>\n",
              "\n",
              "      <script>\n",
              "        const buttonEl =\n",
              "          document.querySelector('#df-6331cfb9-6eab-4abc-b526-6d50a726ebb2 button.colab-df-convert');\n",
              "        buttonEl.style.display =\n",
              "          google.colab.kernel.accessAllowed ? 'block' : 'none';\n",
              "\n",
              "        async function convertToInteractive(key) {\n",
              "          const element = document.querySelector('#df-6331cfb9-6eab-4abc-b526-6d50a726ebb2');\n",
              "          const dataTable =\n",
              "            await google.colab.kernel.invokeFunction('convertToInteractive',\n",
              "                                                     [key], {});\n",
              "          if (!dataTable) return;\n",
              "\n",
              "          const docLinkHtml = 'Like what you see? Visit the ' +\n",
              "            '<a target=\"_blank\" href=https://colab.research.google.com/notebooks/data_table.ipynb>data table notebook</a>'\n",
              "            + ' to learn more about interactive tables.';\n",
              "          element.innerHTML = '';\n",
              "          dataTable['output_type'] = 'display_data';\n",
              "          await google.colab.output.renderOutput(dataTable, element);\n",
              "          const docLink = document.createElement('div');\n",
              "          docLink.innerHTML = docLinkHtml;\n",
              "          element.appendChild(docLink);\n",
              "        }\n",
              "      </script>\n",
              "    </div>\n",
              "  </div>\n",
              "  "
            ]
          },
          "metadata": {},
          "execution_count": 109
        }
      ]
    },
    {
      "cell_type": "code",
      "source": [
        "# Apply square function to all elements in the df\n",
        "\n",
        "df.applymap(lambda x: x*x)"
      ],
      "metadata": {
        "colab": {
          "base_uri": "https://localhost:8080/",
          "height": 112
        },
        "id": "ugIG5YseAkGF",
        "outputId": "909114ce-4fbb-4158-a6a0-4e7dd2852099"
      },
      "execution_count": null,
      "outputs": [
        {
          "output_type": "execute_result",
          "data": {
            "text/plain": [
              "   First  Second  Third    Sum\n",
              "0      1       4      9     36\n",
              "1     16      25     36  14400"
            ],
            "text/html": [
              "\n",
              "  <div id=\"df-c83c4269-248e-4f4a-a839-1177bb060b8a\">\n",
              "    <div class=\"colab-df-container\">\n",
              "      <div>\n",
              "<style scoped>\n",
              "    .dataframe tbody tr th:only-of-type {\n",
              "        vertical-align: middle;\n",
              "    }\n",
              "\n",
              "    .dataframe tbody tr th {\n",
              "        vertical-align: top;\n",
              "    }\n",
              "\n",
              "    .dataframe thead th {\n",
              "        text-align: right;\n",
              "    }\n",
              "</style>\n",
              "<table border=\"1\" class=\"dataframe\">\n",
              "  <thead>\n",
              "    <tr style=\"text-align: right;\">\n",
              "      <th></th>\n",
              "      <th>First</th>\n",
              "      <th>Second</th>\n",
              "      <th>Third</th>\n",
              "      <th>Sum</th>\n",
              "    </tr>\n",
              "  </thead>\n",
              "  <tbody>\n",
              "    <tr>\n",
              "      <th>0</th>\n",
              "      <td>1</td>\n",
              "      <td>4</td>\n",
              "      <td>9</td>\n",
              "      <td>36</td>\n",
              "    </tr>\n",
              "    <tr>\n",
              "      <th>1</th>\n",
              "      <td>16</td>\n",
              "      <td>25</td>\n",
              "      <td>36</td>\n",
              "      <td>14400</td>\n",
              "    </tr>\n",
              "  </tbody>\n",
              "</table>\n",
              "</div>\n",
              "      <button class=\"colab-df-convert\" onclick=\"convertToInteractive('df-c83c4269-248e-4f4a-a839-1177bb060b8a')\"\n",
              "              title=\"Convert this dataframe to an interactive table.\"\n",
              "              style=\"display:none;\">\n",
              "        \n",
              "  <svg xmlns=\"http://www.w3.org/2000/svg\" height=\"24px\"viewBox=\"0 0 24 24\"\n",
              "       width=\"24px\">\n",
              "    <path d=\"M0 0h24v24H0V0z\" fill=\"none\"/>\n",
              "    <path d=\"M18.56 5.44l.94 2.06.94-2.06 2.06-.94-2.06-.94-.94-2.06-.94 2.06-2.06.94zm-11 1L8.5 8.5l.94-2.06 2.06-.94-2.06-.94L8.5 2.5l-.94 2.06-2.06.94zm10 10l.94 2.06.94-2.06 2.06-.94-2.06-.94-.94-2.06-.94 2.06-2.06.94z\"/><path d=\"M17.41 7.96l-1.37-1.37c-.4-.4-.92-.59-1.43-.59-.52 0-1.04.2-1.43.59L10.3 9.45l-7.72 7.72c-.78.78-.78 2.05 0 2.83L4 21.41c.39.39.9.59 1.41.59.51 0 1.02-.2 1.41-.59l7.78-7.78 2.81-2.81c.8-.78.8-2.07 0-2.86zM5.41 20L4 18.59l7.72-7.72 1.47 1.35L5.41 20z\"/>\n",
              "  </svg>\n",
              "      </button>\n",
              "      \n",
              "  <style>\n",
              "    .colab-df-container {\n",
              "      display:flex;\n",
              "      flex-wrap:wrap;\n",
              "      gap: 12px;\n",
              "    }\n",
              "\n",
              "    .colab-df-convert {\n",
              "      background-color: #E8F0FE;\n",
              "      border: none;\n",
              "      border-radius: 50%;\n",
              "      cursor: pointer;\n",
              "      display: none;\n",
              "      fill: #1967D2;\n",
              "      height: 32px;\n",
              "      padding: 0 0 0 0;\n",
              "      width: 32px;\n",
              "    }\n",
              "\n",
              "    .colab-df-convert:hover {\n",
              "      background-color: #E2EBFA;\n",
              "      box-shadow: 0px 1px 2px rgba(60, 64, 67, 0.3), 0px 1px 3px 1px rgba(60, 64, 67, 0.15);\n",
              "      fill: #174EA6;\n",
              "    }\n",
              "\n",
              "    [theme=dark] .colab-df-convert {\n",
              "      background-color: #3B4455;\n",
              "      fill: #D2E3FC;\n",
              "    }\n",
              "\n",
              "    [theme=dark] .colab-df-convert:hover {\n",
              "      background-color: #434B5C;\n",
              "      box-shadow: 0px 1px 3px 1px rgba(0, 0, 0, 0.15);\n",
              "      filter: drop-shadow(0px 1px 2px rgba(0, 0, 0, 0.3));\n",
              "      fill: #FFFFFF;\n",
              "    }\n",
              "  </style>\n",
              "\n",
              "      <script>\n",
              "        const buttonEl =\n",
              "          document.querySelector('#df-c83c4269-248e-4f4a-a839-1177bb060b8a button.colab-df-convert');\n",
              "        buttonEl.style.display =\n",
              "          google.colab.kernel.accessAllowed ? 'block' : 'none';\n",
              "\n",
              "        async function convertToInteractive(key) {\n",
              "          const element = document.querySelector('#df-c83c4269-248e-4f4a-a839-1177bb060b8a');\n",
              "          const dataTable =\n",
              "            await google.colab.kernel.invokeFunction('convertToInteractive',\n",
              "                                                     [key], {});\n",
              "          if (!dataTable) return;\n",
              "\n",
              "          const docLinkHtml = 'Like what you see? Visit the ' +\n",
              "            '<a target=\"_blank\" href=https://colab.research.google.com/notebooks/data_table.ipynb>data table notebook</a>'\n",
              "            + ' to learn more about interactive tables.';\n",
              "          element.innerHTML = '';\n",
              "          dataTable['output_type'] = 'display_data';\n",
              "          await google.colab.output.renderOutput(dataTable, element);\n",
              "          const docLink = document.createElement('div');\n",
              "          docLink.innerHTML = docLinkHtml;\n",
              "          element.appendChild(docLink);\n",
              "        }\n",
              "      </script>\n",
              "    </div>\n",
              "  </div>\n",
              "  "
            ]
          },
          "metadata": {},
          "execution_count": 111
        }
      ]
    },
    {
      "cell_type": "markdown",
      "source": [
        "# 6 Examples"
      ],
      "metadata": {
        "id": "LNyy1uU5BJyr"
      }
    },
    {
      "cell_type": "markdown",
      "source": [
        "I will use the random generated data procedure (lecture 04) and wrap it into a function.\n",
        "\n",
        "1. Example 1 -- the linear relation we have been done in lecture 04\n",
        "2. Example 2 -- creating a logistic function and create random data"
      ],
      "metadata": {
        "id": "oktdkxLFMeH_"
      }
    },
    {
      "cell_type": "code",
      "source": [
        "# Import the packages we're gonna use\n",
        "\n",
        "import pandas as pd # any dataframe or manipulations\n",
        "import numpy as np # we need some random numbers\n",
        "import scipy.stats as sps # statistical functions from scipy packages\n",
        "import matplotlib.pyplot as plt # we wanna visualise, visualise, visualise\n",
        "import seaborn as sns # statistical plotting support\n"
      ],
      "metadata": {
        "id": "edQjTt3oD3dJ"
      },
      "execution_count": null,
      "outputs": []
    },
    {
      "cell_type": "markdown",
      "source": [
        "### 6.1 Create the random data function\n",
        "\n",
        "The function takes as arguments a function object (can be a lambda), the number of data to be generated and a random seed.\n"
      ],
      "metadata": {
        "id": "GCqPQsHjM7Tz"
      }
    },
    {
      "cell_type": "code",
      "source": [
        "# Create random data using the function fct.\n",
        "\n",
        "def create_random_data(fct=None, n=100, seed=42):\n",
        "  \"\"\" Create random data from the passed function fct\n",
        "\n",
        "  Keyword arguments:\n",
        "  fct  -- a function object (created via def or lambda, default=None)\n",
        "  n    -- the number of data to be created (default=100)\n",
        "  seed -- the random seed (default=42)\n",
        "\n",
        "  Return:\n",
        "  df   -- a dataframe that includes the x, y and eps (disturbance) vectors as columns\n",
        "  \"\"\"\n",
        "  NDAT = n \n",
        "\n",
        "  rng = np.random.default_rng(seed) \n",
        "  rng2 = np.random.default_rng(seed+1) \n",
        "  \n",
        "  # Create x, y and eps\n",
        "  x = rng.random(size=NDAT)*50\n",
        "  eps = rng2.normal(loc=0, scale=10, size=len(x))\n",
        "  y = fct(x, e=eps)\n",
        "\n",
        "  df = pd.DataFrame({\n",
        "    \"x\": x,\n",
        "    \"y\": y,\n",
        "    \"e\": eps\n",
        "  })\n",
        "\n",
        "  return df\n",
        "\n"
      ],
      "metadata": {
        "id": "p_8LOCwCAygM"
      },
      "execution_count": null,
      "outputs": []
    },
    {
      "cell_type": "code",
      "source": [
        "# def my_lin(x, m=4, b=20, e=0):\n",
        "#   value = m * x + b + e\n",
        "#   return value\n",
        "  \n",
        "# linear = lambda x, m=4, b=20, e=0: m * x + b + e"
      ],
      "metadata": {
        "id": "j4PhNJq7DVN5"
      },
      "execution_count": null,
      "outputs": []
    },
    {
      "cell_type": "markdown",
      "source": [
        "### 6.2 Create the random data with a linear function\n",
        "\n",
        "The linear function:\n",
        "\n",
        "$$\n",
        "y = m x + b + \\epsilon\n",
        "$$\n",
        "\n",
        "is implemented as \n",
        "\n",
        "```python\n",
        "lambda x, m=4, b=20, e=0: m * x + b + e\n",
        "```\n",
        "\n",
        "where $m$ is the slope, $b$ the intercept and $\\epsilon$ the disturbance term. \n",
        "\n",
        "In the `lambda` notation, this can be made in one line. "
      ],
      "metadata": {
        "id": "G0vYCMx_OCuw"
      }
    },
    {
      "cell_type": "code",
      "source": [
        "# creating a dataset with a linear relation\n",
        "\n",
        "df = create_random_data(lambda x, m=4, b=20, e=0: m * x + b + e)\n",
        "df"
      ],
      "metadata": {
        "colab": {
          "base_uri": "https://localhost:8080/",
          "height": 423
        },
        "id": "0A5VXUl_DicF",
        "outputId": "aea4fd5b-9266-4c55-fa2b-239e1a77f244"
      },
      "execution_count": null,
      "outputs": [
        {
          "output_type": "execute_result",
          "data": {
            "text/plain": [
              "            x           y          e\n",
              "0   38.697802  177.233505   2.442295\n",
              "1   21.943922  114.557471   6.781783\n",
              "2   42.929896  185.864290  -5.855294\n",
              "3   34.868401  150.386875  -9.086731\n",
              "4    4.708867   18.917087 -19.918382\n",
              "..        ...         ...        ...\n",
              "95  31.514130  140.433932  -5.622586\n",
              "96  18.090631   92.786293   0.423771\n",
              "97   4.382496   13.954818 -23.575166\n",
              "98   5.900295   38.397550  -5.203630\n",
              "99  48.094883  220.262195   7.882663\n",
              "\n",
              "[100 rows x 3 columns]"
            ],
            "text/html": [
              "\n",
              "  <div id=\"df-e4bce662-3fc7-4449-b37d-a16cbbe788b1\">\n",
              "    <div class=\"colab-df-container\">\n",
              "      <div>\n",
              "<style scoped>\n",
              "    .dataframe tbody tr th:only-of-type {\n",
              "        vertical-align: middle;\n",
              "    }\n",
              "\n",
              "    .dataframe tbody tr th {\n",
              "        vertical-align: top;\n",
              "    }\n",
              "\n",
              "    .dataframe thead th {\n",
              "        text-align: right;\n",
              "    }\n",
              "</style>\n",
              "<table border=\"1\" class=\"dataframe\">\n",
              "  <thead>\n",
              "    <tr style=\"text-align: right;\">\n",
              "      <th></th>\n",
              "      <th>x</th>\n",
              "      <th>y</th>\n",
              "      <th>e</th>\n",
              "    </tr>\n",
              "  </thead>\n",
              "  <tbody>\n",
              "    <tr>\n",
              "      <th>0</th>\n",
              "      <td>38.697802</td>\n",
              "      <td>177.233505</td>\n",
              "      <td>2.442295</td>\n",
              "    </tr>\n",
              "    <tr>\n",
              "      <th>1</th>\n",
              "      <td>21.943922</td>\n",
              "      <td>114.557471</td>\n",
              "      <td>6.781783</td>\n",
              "    </tr>\n",
              "    <tr>\n",
              "      <th>2</th>\n",
              "      <td>42.929896</td>\n",
              "      <td>185.864290</td>\n",
              "      <td>-5.855294</td>\n",
              "    </tr>\n",
              "    <tr>\n",
              "      <th>3</th>\n",
              "      <td>34.868401</td>\n",
              "      <td>150.386875</td>\n",
              "      <td>-9.086731</td>\n",
              "    </tr>\n",
              "    <tr>\n",
              "      <th>4</th>\n",
              "      <td>4.708867</td>\n",
              "      <td>18.917087</td>\n",
              "      <td>-19.918382</td>\n",
              "    </tr>\n",
              "    <tr>\n",
              "      <th>...</th>\n",
              "      <td>...</td>\n",
              "      <td>...</td>\n",
              "      <td>...</td>\n",
              "    </tr>\n",
              "    <tr>\n",
              "      <th>95</th>\n",
              "      <td>31.514130</td>\n",
              "      <td>140.433932</td>\n",
              "      <td>-5.622586</td>\n",
              "    </tr>\n",
              "    <tr>\n",
              "      <th>96</th>\n",
              "      <td>18.090631</td>\n",
              "      <td>92.786293</td>\n",
              "      <td>0.423771</td>\n",
              "    </tr>\n",
              "    <tr>\n",
              "      <th>97</th>\n",
              "      <td>4.382496</td>\n",
              "      <td>13.954818</td>\n",
              "      <td>-23.575166</td>\n",
              "    </tr>\n",
              "    <tr>\n",
              "      <th>98</th>\n",
              "      <td>5.900295</td>\n",
              "      <td>38.397550</td>\n",
              "      <td>-5.203630</td>\n",
              "    </tr>\n",
              "    <tr>\n",
              "      <th>99</th>\n",
              "      <td>48.094883</td>\n",
              "      <td>220.262195</td>\n",
              "      <td>7.882663</td>\n",
              "    </tr>\n",
              "  </tbody>\n",
              "</table>\n",
              "<p>100 rows × 3 columns</p>\n",
              "</div>\n",
              "      <button class=\"colab-df-convert\" onclick=\"convertToInteractive('df-e4bce662-3fc7-4449-b37d-a16cbbe788b1')\"\n",
              "              title=\"Convert this dataframe to an interactive table.\"\n",
              "              style=\"display:none;\">\n",
              "        \n",
              "  <svg xmlns=\"http://www.w3.org/2000/svg\" height=\"24px\"viewBox=\"0 0 24 24\"\n",
              "       width=\"24px\">\n",
              "    <path d=\"M0 0h24v24H0V0z\" fill=\"none\"/>\n",
              "    <path d=\"M18.56 5.44l.94 2.06.94-2.06 2.06-.94-2.06-.94-.94-2.06-.94 2.06-2.06.94zm-11 1L8.5 8.5l.94-2.06 2.06-.94-2.06-.94L8.5 2.5l-.94 2.06-2.06.94zm10 10l.94 2.06.94-2.06 2.06-.94-2.06-.94-.94-2.06-.94 2.06-2.06.94z\"/><path d=\"M17.41 7.96l-1.37-1.37c-.4-.4-.92-.59-1.43-.59-.52 0-1.04.2-1.43.59L10.3 9.45l-7.72 7.72c-.78.78-.78 2.05 0 2.83L4 21.41c.39.39.9.59 1.41.59.51 0 1.02-.2 1.41-.59l7.78-7.78 2.81-2.81c.8-.78.8-2.07 0-2.86zM5.41 20L4 18.59l7.72-7.72 1.47 1.35L5.41 20z\"/>\n",
              "  </svg>\n",
              "      </button>\n",
              "      \n",
              "  <style>\n",
              "    .colab-df-container {\n",
              "      display:flex;\n",
              "      flex-wrap:wrap;\n",
              "      gap: 12px;\n",
              "    }\n",
              "\n",
              "    .colab-df-convert {\n",
              "      background-color: #E8F0FE;\n",
              "      border: none;\n",
              "      border-radius: 50%;\n",
              "      cursor: pointer;\n",
              "      display: none;\n",
              "      fill: #1967D2;\n",
              "      height: 32px;\n",
              "      padding: 0 0 0 0;\n",
              "      width: 32px;\n",
              "    }\n",
              "\n",
              "    .colab-df-convert:hover {\n",
              "      background-color: #E2EBFA;\n",
              "      box-shadow: 0px 1px 2px rgba(60, 64, 67, 0.3), 0px 1px 3px 1px rgba(60, 64, 67, 0.15);\n",
              "      fill: #174EA6;\n",
              "    }\n",
              "\n",
              "    [theme=dark] .colab-df-convert {\n",
              "      background-color: #3B4455;\n",
              "      fill: #D2E3FC;\n",
              "    }\n",
              "\n",
              "    [theme=dark] .colab-df-convert:hover {\n",
              "      background-color: #434B5C;\n",
              "      box-shadow: 0px 1px 3px 1px rgba(0, 0, 0, 0.15);\n",
              "      filter: drop-shadow(0px 1px 2px rgba(0, 0, 0, 0.3));\n",
              "      fill: #FFFFFF;\n",
              "    }\n",
              "  </style>\n",
              "\n",
              "      <script>\n",
              "        const buttonEl =\n",
              "          document.querySelector('#df-e4bce662-3fc7-4449-b37d-a16cbbe788b1 button.colab-df-convert');\n",
              "        buttonEl.style.display =\n",
              "          google.colab.kernel.accessAllowed ? 'block' : 'none';\n",
              "\n",
              "        async function convertToInteractive(key) {\n",
              "          const element = document.querySelector('#df-e4bce662-3fc7-4449-b37d-a16cbbe788b1');\n",
              "          const dataTable =\n",
              "            await google.colab.kernel.invokeFunction('convertToInteractive',\n",
              "                                                     [key], {});\n",
              "          if (!dataTable) return;\n",
              "\n",
              "          const docLinkHtml = 'Like what you see? Visit the ' +\n",
              "            '<a target=\"_blank\" href=https://colab.research.google.com/notebooks/data_table.ipynb>data table notebook</a>'\n",
              "            + ' to learn more about interactive tables.';\n",
              "          element.innerHTML = '';\n",
              "          dataTable['output_type'] = 'display_data';\n",
              "          await google.colab.output.renderOutput(dataTable, element);\n",
              "          const docLink = document.createElement('div');\n",
              "          docLink.innerHTML = docLinkHtml;\n",
              "          element.appendChild(docLink);\n",
              "        }\n",
              "      </script>\n",
              "    </div>\n",
              "  </div>\n",
              "  "
            ]
          },
          "metadata": {},
          "execution_count": 148
        }
      ]
    },
    {
      "cell_type": "code",
      "source": [
        "sns.regplot(x=\"x\", y=\"y\", data=df);"
      ],
      "metadata": {
        "colab": {
          "base_uri": "https://localhost:8080/",
          "height": 279
        },
        "id": "fXF3fZc5DsuZ",
        "outputId": "718dd7d6-b06e-4c24-c1b7-3c856ab2e40d"
      },
      "execution_count": null,
      "outputs": [
        {
          "output_type": "display_data",
          "data": {
            "text/plain": [
              "<Figure size 432x288 with 1 Axes>"
            ],
            "image/png": "[encoded data removed]"
          },
          "metadata": {
            "needs_background": "light"
          }
        }
      ]
    },
    {
      "cell_type": "markdown",
      "source": [
        "### 6.3 Create the random data with a logistic function\n",
        "\n",
        "The logistic function:\n",
        "\n",
        "$$\n",
        "y = \\frac{L}{1 + e^{-k (x - x_0)}} + \\epsilon\n",
        "$$\n",
        "\n",
        "with $L$ as \"carrying capacity\" or maximum, $x_0$ the inflection point and $k$ the logistic growth rate of the sigmoid function is implemented as \n",
        "\n",
        "```python\n",
        "lambda x0=25, L=300, k=0.5, e=0: L / (1. + np.exp(-k * (x - x0))) + e\n",
        "```\n",
        "\n",
        "This example shows, that using the functions and `lambda` notations a very convenient way of creating the random data can be realised."
      ],
      "metadata": {
        "id": "FiidJ2HrPJrx"
      }
    },
    {
      "cell_type": "code",
      "source": [
        "# Creating a dataset with a logistic relation\n",
        "\n",
        "df2 = create_random_data(lambda x, x0=25, L=300, k=0.5, e=0: L / (1. + np.exp(-k * (x - x0))) + e)\n",
        "df2"
      ],
      "metadata": {
        "colab": {
          "base_uri": "https://localhost:8080/",
          "height": 423
        },
        "id": "MdyKlEFIFSa7",
        "outputId": "787a9bca-2f29-4e4b-873e-08fd33fc73d9"
      },
      "execution_count": null,
      "outputs": [
        {
          "output_type": "execute_result",
          "data": {
            "text/plain": [
              "            x           y          e\n",
              "0   38.697802  302.124446   2.442295\n",
              "1   21.943922   60.266018   6.781783\n",
              "2   42.929896  294.106367  -5.855294\n",
              "3   34.868401  288.769830  -9.086731\n",
              "4    4.708867  -19.906608 -19.918382\n",
              "..        ...         ...        ...\n",
              "95  31.514130  283.255258  -5.622586\n",
              "96  18.090631    9.612608   0.423771\n",
              "97   4.382496  -23.565164 -23.575166\n",
              "98   5.900295   -5.182268  -5.203630\n",
              "99  48.094883  307.879764   7.882663\n",
              "\n",
              "[100 rows x 3 columns]"
            ],
            "text/html": [
              "\n",
              "  <div id=\"df-4c63d435-c599-4c5d-8283-f925c9a02942\">\n",
              "    <div class=\"colab-df-container\">\n",
              "      <div>\n",
              "<style scoped>\n",
              "    .dataframe tbody tr th:only-of-type {\n",
              "        vertical-align: middle;\n",
              "    }\n",
              "\n",
              "    .dataframe tbody tr th {\n",
              "        vertical-align: top;\n",
              "    }\n",
              "\n",
              "    .dataframe thead th {\n",
              "        text-align: right;\n",
              "    }\n",
              "</style>\n",
              "<table border=\"1\" class=\"dataframe\">\n",
              "  <thead>\n",
              "    <tr style=\"text-align: right;\">\n",
              "      <th></th>\n",
              "      <th>x</th>\n",
              "      <th>y</th>\n",
              "      <th>e</th>\n",
              "    </tr>\n",
              "  </thead>\n",
              "  <tbody>\n",
              "    <tr>\n",
              "      <th>0</th>\n",
              "      <td>38.697802</td>\n",
              "      <td>302.124446</td>\n",
              "      <td>2.442295</td>\n",
              "    </tr>\n",
              "    <tr>\n",
              "      <th>1</th>\n",
              "      <td>21.943922</td>\n",
              "      <td>60.266018</td>\n",
              "      <td>6.781783</td>\n",
              "    </tr>\n",
              "    <tr>\n",
              "      <th>2</th>\n",
              "      <td>42.929896</td>\n",
              "      <td>294.106367</td>\n",
              "      <td>-5.855294</td>\n",
              "    </tr>\n",
              "    <tr>\n",
              "      <th>3</th>\n",
              "      <td>34.868401</td>\n",
              "      <td>288.769830</td>\n",
              "      <td>-9.086731</td>\n",
              "    </tr>\n",
              "    <tr>\n",
              "      <th>4</th>\n",
              "      <td>4.708867</td>\n",
              "      <td>-19.906608</td>\n",
              "      <td>-19.918382</td>\n",
              "    </tr>\n",
              "    <tr>\n",
              "      <th>...</th>\n",
              "      <td>...</td>\n",
              "      <td>...</td>\n",
              "      <td>...</td>\n",
              "    </tr>\n",
              "    <tr>\n",
              "      <th>95</th>\n",
              "      <td>31.514130</td>\n",
              "      <td>283.255258</td>\n",
              "      <td>-5.622586</td>\n",
              "    </tr>\n",
              "    <tr>\n",
              "      <th>96</th>\n",
              "      <td>18.090631</td>\n",
              "      <td>9.612608</td>\n",
              "      <td>0.423771</td>\n",
              "    </tr>\n",
              "    <tr>\n",
              "      <th>97</th>\n",
              "      <td>4.382496</td>\n",
              "      <td>-23.565164</td>\n",
              "      <td>-23.575166</td>\n",
              "    </tr>\n",
              "    <tr>\n",
              "      <th>98</th>\n",
              "      <td>5.900295</td>\n",
              "      <td>-5.182268</td>\n",
              "      <td>-5.203630</td>\n",
              "    </tr>\n",
              "    <tr>\n",
              "      <th>99</th>\n",
              "      <td>48.094883</td>\n",
              "      <td>307.879764</td>\n",
              "      <td>7.882663</td>\n",
              "    </tr>\n",
              "  </tbody>\n",
              "</table>\n",
              "<p>100 rows × 3 columns</p>\n",
              "</div>\n",
              "      <button class=\"colab-df-convert\" onclick=\"convertToInteractive('df-4c63d435-c599-4c5d-8283-f925c9a02942')\"\n",
              "              title=\"Convert this dataframe to an interactive table.\"\n",
              "              style=\"display:none;\">\n",
              "        \n",
              "  <svg xmlns=\"http://www.w3.org/2000/svg\" height=\"24px\"viewBox=\"0 0 24 24\"\n",
              "       width=\"24px\">\n",
              "    <path d=\"M0 0h24v24H0V0z\" fill=\"none\"/>\n",
              "    <path d=\"M18.56 5.44l.94 2.06.94-2.06 2.06-.94-2.06-.94-.94-2.06-.94 2.06-2.06.94zm-11 1L8.5 8.5l.94-2.06 2.06-.94-2.06-.94L8.5 2.5l-.94 2.06-2.06.94zm10 10l.94 2.06.94-2.06 2.06-.94-2.06-.94-.94-2.06-.94 2.06-2.06.94z\"/><path d=\"M17.41 7.96l-1.37-1.37c-.4-.4-.92-.59-1.43-.59-.52 0-1.04.2-1.43.59L10.3 9.45l-7.72 7.72c-.78.78-.78 2.05 0 2.83L4 21.41c.39.39.9.59 1.41.59.51 0 1.02-.2 1.41-.59l7.78-7.78 2.81-2.81c.8-.78.8-2.07 0-2.86zM5.41 20L4 18.59l7.72-7.72 1.47 1.35L5.41 20z\"/>\n",
              "  </svg>\n",
              "      </button>\n",
              "      \n",
              "  <style>\n",
              "    .colab-df-container {\n",
              "      display:flex;\n",
              "      flex-wrap:wrap;\n",
              "      gap: 12px;\n",
              "    }\n",
              "\n",
              "    .colab-df-convert {\n",
              "      background-color: #E8F0FE;\n",
              "      border: none;\n",
              "      border-radius: 50%;\n",
              "      cursor: pointer;\n",
              "      display: none;\n",
              "      fill: #1967D2;\n",
              "      height: 32px;\n",
              "      padding: 0 0 0 0;\n",
              "      width: 32px;\n",
              "    }\n",
              "\n",
              "    .colab-df-convert:hover {\n",
              "      background-color: #E2EBFA;\n",
              "      box-shadow: 0px 1px 2px rgba(60, 64, 67, 0.3), 0px 1px 3px 1px rgba(60, 64, 67, 0.15);\n",
              "      fill: #174EA6;\n",
              "    }\n",
              "\n",
              "    [theme=dark] .colab-df-convert {\n",
              "      background-color: #3B4455;\n",
              "      fill: #D2E3FC;\n",
              "    }\n",
              "\n",
              "    [theme=dark] .colab-df-convert:hover {\n",
              "      background-color: #434B5C;\n",
              "      box-shadow: 0px 1px 3px 1px rgba(0, 0, 0, 0.15);\n",
              "      filter: drop-shadow(0px 1px 2px rgba(0, 0, 0, 0.3));\n",
              "      fill: #FFFFFF;\n",
              "    }\n",
              "  </style>\n",
              "\n",
              "      <script>\n",
              "        const buttonEl =\n",
              "          document.querySelector('#df-4c63d435-c599-4c5d-8283-f925c9a02942 button.colab-df-convert');\n",
              "        buttonEl.style.display =\n",
              "          google.colab.kernel.accessAllowed ? 'block' : 'none';\n",
              "\n",
              "        async function convertToInteractive(key) {\n",
              "          const element = document.querySelector('#df-4c63d435-c599-4c5d-8283-f925c9a02942');\n",
              "          const dataTable =\n",
              "            await google.colab.kernel.invokeFunction('convertToInteractive',\n",
              "                                                     [key], {});\n",
              "          if (!dataTable) return;\n",
              "\n",
              "          const docLinkHtml = 'Like what you see? Visit the ' +\n",
              "            '<a target=\"_blank\" href=https://colab.research.google.com/notebooks/data_table.ipynb>data table notebook</a>'\n",
              "            + ' to learn more about interactive tables.';\n",
              "          element.innerHTML = '';\n",
              "          dataTable['output_type'] = 'display_data';\n",
              "          await google.colab.output.renderOutput(dataTable, element);\n",
              "          const docLink = document.createElement('div');\n",
              "          docLink.innerHTML = docLinkHtml;\n",
              "          element.appendChild(docLink);\n",
              "        }\n",
              "      </script>\n",
              "    </div>\n",
              "  </div>\n",
              "  "
            ]
          },
          "metadata": {},
          "execution_count": 139
        }
      ]
    },
    {
      "cell_type": "code",
      "source": [
        "# Plotting a rescaled logistic regression curve\n",
        "# I scalenormalise it to 0..1 to have an easier visualisation!\n",
        "\n",
        "sns.regplot(x=\"x\", y=df2.y/300, data=df2, logistic=True);"
      ],
      "metadata": {
        "colab": {
          "base_uri": "https://localhost:8080/",
          "height": 279
        },
        "id": "DEmzpNb9Gxrs",
        "outputId": "ac50f47b-b533-4b18-9eb1-a462e3a76ed3"
      },
      "execution_count": null,
      "outputs": [
        {
          "output_type": "display_data",
          "data": {
            "text/plain": [
              "<Figure size 432x288 with 1 Axes>"
            ],
            "image/png": "[encoded data removed]"
          },
          "metadata": {
            "needs_background": "light"
          }
        }
      ]
    },
    {
      "cell_type": "code",
      "source": [],
      "metadata": {
        "id": "7U00EqLELi8C"
      },
      "execution_count": null,
      "outputs": []
    }
  ]
}